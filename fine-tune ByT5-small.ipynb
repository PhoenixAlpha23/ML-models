{
  "metadata": {
    "kernelspec": {
      "language": "python",
      "display_name": "Python 3",
      "name": "python3"
    },
    "language_info": {
      "name": "python",
      "version": "3.10.12",
      "mimetype": "text/x-python",
      "codemirror_mode": {
        "name": "ipython",
        "version": 3
      },
      "pygments_lexer": "ipython3",
      "nbconvert_exporter": "python",
      "file_extension": ".py"
    },
    "kaggle": {
      "accelerator": "nvidiaTeslaT4",
      "dataSources": [],
      "dockerImageVersionId": 30886,
      "isInternetEnabled": true,
      "language": "python",
      "sourceType": "notebook",
      "isGpuEnabled": true
    },
    "colab": {
      "name": "Fine-tune Language model-Legal",
      "provenance": []
    }
  },
  "nbformat_minor": 0,
  "nbformat": 4,
  "cells": [
    {
      "cell_type": "code",
      "source": [
        "%pip install datasets transformers wandb"
      ],
      "metadata": {
        "trusted": true,
        "execution": {
          "iopub.status.busy": "2025-02-19T14:00:26.133621Z",
          "iopub.execute_input": "2025-02-19T14:00:26.133924Z",
          "iopub.status.idle": "2025-02-19T14:00:29.521948Z",
          "shell.execute_reply.started": "2025-02-19T14:00:26.133875Z",
          "shell.execute_reply": "2025-02-19T14:00:29.52108Z"
        },
        "id": "F-EXgoC68EUT",
        "outputId": "2dd84ca8-0add-47bd-8f30-64b3ebf399f9"
      },
      "outputs": [
        {
          "name": "stdout",
          "text": "Requirement already satisfied: datasets in /usr/local/lib/python3.10/dist-packages (3.2.0)\nRequirement already satisfied: transformers in /usr/local/lib/python3.10/dist-packages (4.47.0)\nRequirement already satisfied: wandb in /usr/local/lib/python3.10/dist-packages (0.19.1)\nRequirement already satisfied: filelock in /usr/local/lib/python3.10/dist-packages (from datasets) (3.17.0)\nRequirement already satisfied: numpy>=1.17 in /usr/local/lib/python3.10/dist-packages (from datasets) (1.26.4)\nRequirement already satisfied: pyarrow>=15.0.0 in /usr/local/lib/python3.10/dist-packages (from datasets) (19.0.0)\nRequirement already satisfied: dill<0.3.9,>=0.3.0 in /usr/local/lib/python3.10/dist-packages (from datasets) (0.3.8)\nRequirement already satisfied: pandas in /usr/local/lib/python3.10/dist-packages (from datasets) (2.2.3)\nRequirement already satisfied: requests>=2.32.2 in /usr/local/lib/python3.10/dist-packages (from datasets) (2.32.3)\nRequirement already satisfied: tqdm>=4.66.3 in /usr/local/lib/python3.10/dist-packages (from datasets) (4.67.1)\nRequirement already satisfied: xxhash in /usr/local/lib/python3.10/dist-packages (from datasets) (3.5.0)\nRequirement already satisfied: multiprocess<0.70.17 in /usr/local/lib/python3.10/dist-packages (from datasets) (0.70.16)\nRequirement already satisfied: fsspec<=2024.9.0,>=2023.1.0 in /usr/local/lib/python3.10/dist-packages (from fsspec[http]<=2024.9.0,>=2023.1.0->datasets) (2024.9.0)\nRequirement already satisfied: aiohttp in /usr/local/lib/python3.10/dist-packages (from datasets) (3.11.11)\nRequirement already satisfied: huggingface-hub>=0.23.0 in /usr/local/lib/python3.10/dist-packages (from datasets) (0.28.1)\nRequirement already satisfied: packaging in /usr/local/lib/python3.10/dist-packages (from datasets) (24.2)\nRequirement already satisfied: pyyaml>=5.1 in /usr/local/lib/python3.10/dist-packages (from datasets) (6.0.2)\nRequirement already satisfied: regex!=2019.12.17 in /usr/local/lib/python3.10/dist-packages (from transformers) (2024.11.6)\nRequirement already satisfied: tokenizers<0.22,>=0.21 in /usr/local/lib/python3.10/dist-packages (from transformers) (0.21.0)\nRequirement already satisfied: safetensors>=0.4.1 in /usr/local/lib/python3.10/dist-packages (from transformers) (0.4.5)\nRequirement already satisfied: click!=8.0.0,>=7.1 in /usr/local/lib/python3.10/dist-packages (from wandb) (8.1.7)\nRequirement already satisfied: docker-pycreds>=0.4.0 in /usr/local/lib/python3.10/dist-packages (from wandb) (0.4.0)\nRequirement already satisfied: gitpython!=3.1.29,>=1.0.0 in /usr/local/lib/python3.10/dist-packages (from wandb) (3.1.43)\nRequirement already satisfied: platformdirs in /usr/local/lib/python3.10/dist-packages (from wandb) (4.3.6)\nRequirement already satisfied: protobuf!=4.21.0,!=5.28.0,<6,>=3.19.0 in /usr/local/lib/python3.10/dist-packages (from wandb) (3.20.3)\nRequirement already satisfied: psutil>=5.0.0 in /usr/local/lib/python3.10/dist-packages (from wandb) (5.9.5)\nRequirement already satisfied: pydantic<3,>=2.6 in /usr/local/lib/python3.10/dist-packages (from wandb) (2.11.0a1)\nRequirement already satisfied: sentry-sdk>=2.0.0 in /usr/local/lib/python3.10/dist-packages (from wandb) (2.19.2)\nRequirement already satisfied: setproctitle in /usr/local/lib/python3.10/dist-packages (from wandb) (1.3.4)\nRequirement already satisfied: setuptools in /usr/local/lib/python3.10/dist-packages (from wandb) (75.1.0)\nRequirement already satisfied: typing-extensions<5,>=4.4 in /usr/local/lib/python3.10/dist-packages (from wandb) (4.12.2)\nRequirement already satisfied: six>=1.4.0 in /usr/local/lib/python3.10/dist-packages (from docker-pycreds>=0.4.0->wandb) (1.17.0)\nRequirement already satisfied: aiohappyeyeballs>=2.3.0 in /usr/local/lib/python3.10/dist-packages (from aiohttp->datasets) (2.4.4)\nRequirement already satisfied: aiosignal>=1.1.2 in /usr/local/lib/python3.10/dist-packages (from aiohttp->datasets) (1.3.2)\nRequirement already satisfied: async-timeout<6.0,>=4.0 in /usr/local/lib/python3.10/dist-packages (from aiohttp->datasets) (5.0.1)\nRequirement already satisfied: attrs>=17.3.0 in /usr/local/lib/python3.10/dist-packages (from aiohttp->datasets) (25.1.0)\nRequirement already satisfied: frozenlist>=1.1.1 in /usr/local/lib/python3.10/dist-packages (from aiohttp->datasets) (1.5.0)\nRequirement already satisfied: multidict<7.0,>=4.5 in /usr/local/lib/python3.10/dist-packages (from aiohttp->datasets) (6.1.0)\nRequirement already satisfied: propcache>=0.2.0 in /usr/local/lib/python3.10/dist-packages (from aiohttp->datasets) (0.2.1)\nRequirement already satisfied: yarl<2.0,>=1.17.0 in /usr/local/lib/python3.10/dist-packages (from aiohttp->datasets) (1.18.3)\nRequirement already satisfied: gitdb<5,>=4.0.1 in /usr/local/lib/python3.10/dist-packages (from gitpython!=3.1.29,>=1.0.0->wandb) (4.0.11)\nRequirement already satisfied: mkl_fft in /usr/local/lib/python3.10/dist-packages (from numpy>=1.17->datasets) (1.3.8)\nRequirement already satisfied: mkl_random in /usr/local/lib/python3.10/dist-packages (from numpy>=1.17->datasets) (1.2.4)\nRequirement already satisfied: mkl_umath in /usr/local/lib/python3.10/dist-packages (from numpy>=1.17->datasets) (0.1.1)\nRequirement already satisfied: mkl in /usr/local/lib/python3.10/dist-packages (from numpy>=1.17->datasets) (2025.0.1)\nRequirement already satisfied: tbb4py in /usr/local/lib/python3.10/dist-packages (from numpy>=1.17->datasets) (2022.0.0)\nRequirement already satisfied: mkl-service in /usr/local/lib/python3.10/dist-packages (from numpy>=1.17->datasets) (2.4.1)\nRequirement already satisfied: annotated-types>=0.6.0 in /usr/local/lib/python3.10/dist-packages (from pydantic<3,>=2.6->wandb) (0.7.0)\nRequirement already satisfied: pydantic-core==2.28.0 in /usr/local/lib/python3.10/dist-packages (from pydantic<3,>=2.6->wandb) (2.28.0)\nRequirement already satisfied: charset-normalizer<4,>=2 in /usr/local/lib/python3.10/dist-packages (from requests>=2.32.2->datasets) (3.4.1)\nRequirement already satisfied: idna<4,>=2.5 in /usr/local/lib/python3.10/dist-packages (from requests>=2.32.2->datasets) (3.10)\nRequirement already satisfied: urllib3<3,>=1.21.1 in /usr/local/lib/python3.10/dist-packages (from requests>=2.32.2->datasets) (2.3.0)\nRequirement already satisfied: certifi>=2017.4.17 in /usr/local/lib/python3.10/dist-packages (from requests>=2.32.2->datasets) (2025.1.31)\nRequirement already satisfied: python-dateutil>=2.8.2 in /usr/local/lib/python3.10/dist-packages (from pandas->datasets) (2.9.0.post0)\nRequirement already satisfied: pytz>=2020.1 in /usr/local/lib/python3.10/dist-packages (from pandas->datasets) (2025.1)\nRequirement already satisfied: tzdata>=2022.7 in /usr/local/lib/python3.10/dist-packages (from pandas->datasets) (2025.1)\nRequirement already satisfied: smmap<6,>=3.0.1 in /usr/local/lib/python3.10/dist-packages (from gitdb<5,>=4.0.1->gitpython!=3.1.29,>=1.0.0->wandb) (5.0.1)\nRequirement already satisfied: intel-openmp>=2024 in /usr/local/lib/python3.10/dist-packages (from mkl->numpy>=1.17->datasets) (2024.2.0)\nRequirement already satisfied: tbb==2022.* in /usr/local/lib/python3.10/dist-packages (from mkl->numpy>=1.17->datasets) (2022.0.0)\nRequirement already satisfied: tcmlib==1.* in /usr/local/lib/python3.10/dist-packages (from tbb==2022.*->mkl->numpy>=1.17->datasets) (1.2.0)\nRequirement already satisfied: intel-cmplr-lib-rt in /usr/local/lib/python3.10/dist-packages (from mkl_umath->numpy>=1.17->datasets) (2024.2.0)\nRequirement already satisfied: intel-cmplr-lib-ur==2024.2.0 in /usr/local/lib/python3.10/dist-packages (from intel-openmp>=2024->mkl->numpy>=1.17->datasets) (2024.2.0)\nNote: you may need to restart the kernel to use updated packages.\n",
          "output_type": "stream"
        }
      ],
      "execution_count": null
    },
    {
      "cell_type": "code",
      "source": [
        "from datasets import load_dataset\n",
        "import os\n",
        "\n",
        "# Load the Hugging Face token from Kaggle secrets\n",
        "from kaggle_secrets import UserSecretsClient\n",
        "user_secrets = UserSecretsClient()\n",
        "hf_token = user_secrets.get_secret(\"HF_TOKEN\")"
      ],
      "metadata": {
        "trusted": true,
        "execution": {
          "iopub.status.busy": "2025-02-19T14:00:29.522967Z",
          "iopub.execute_input": "2025-02-19T14:00:29.523295Z",
          "iopub.status.idle": "2025-02-19T14:00:29.719817Z",
          "shell.execute_reply.started": "2025-02-19T14:00:29.523268Z",
          "shell.execute_reply": "2025-02-19T14:00:29.718962Z"
        },
        "id": "WUqpN1qx8EUd"
      },
      "outputs": [],
      "execution_count": null
    },
    {
      "cell_type": "code",
      "source": [
        "# Set the environment variable for Hugging Face\n",
        "os.environ[\"HF_TOKEN\"] = hf_token\n",
        "\n",
        "# Load the dataset with the token\n",
        "NER = load_dataset(\"Exploration-Lab/IL-TUR\", \"lner\")"
      ],
      "metadata": {
        "trusted": true,
        "execution": {
          "iopub.status.busy": "2025-02-19T14:00:29.720748Z",
          "iopub.execute_input": "2025-02-19T14:00:29.721073Z",
          "iopub.status.idle": "2025-02-19T14:00:31.23954Z",
          "shell.execute_reply.started": "2025-02-19T14:00:29.721043Z",
          "shell.execute_reply": "2025-02-19T14:00:31.238936Z"
        },
        "id": "B1ILiUUA8EUf"
      },
      "outputs": [],
      "execution_count": null
    },
    {
      "cell_type": "code",
      "source": [
        "NER"
      ],
      "metadata": {
        "trusted": true,
        "execution": {
          "iopub.status.busy": "2025-02-19T14:00:31.24026Z",
          "iopub.execute_input": "2025-02-19T14:00:31.240459Z",
          "iopub.status.idle": "2025-02-19T14:00:31.245472Z",
          "shell.execute_reply.started": "2025-02-19T14:00:31.240441Z",
          "shell.execute_reply": "2025-02-19T14:00:31.244836Z"
        },
        "id": "bIW9Zxvx8EUg",
        "outputId": "86278e87-1458-468b-fd8a-87f25ac14dc9"
      },
      "outputs": [
        {
          "execution_count": 14,
          "output_type": "execute_result",
          "data": {
            "text/plain": "DatasetDict({\n    fold_1: Dataset({\n        features: ['id', 'text', 'spans'],\n        num_rows: 35\n    })\n    fold_2: Dataset({\n        features: ['id', 'text', 'spans'],\n        num_rows: 35\n    })\n    fold_3: Dataset({\n        features: ['id', 'text', 'spans'],\n        num_rows: 35\n    })\n})"
          },
          "metadata": {}
        }
      ],
      "execution_count": null
    },
    {
      "cell_type": "markdown",
      "source": [
        "**Data Fields:**\n",
        "\n",
        "'id': string → IndianKanoon Case ID\n",
        "\n",
        "'text': string → Full document text\n",
        "\n",
        "'spans': List(\n",
        "\n",
        "'start': int → starting char index\n",
        "'end': int → ending char index + 1\n",
        "'label': class_label → NER label\n",
        ")"
      ],
      "metadata": {
        "id": "-M0rXQ6l8EUh"
      }
    },
    {
      "cell_type": "markdown",
      "source": [
        "The labels for NER in the dataset are as follows:\n",
        "\n",
        "* \"APP\"\n",
        "* \"RESP\"\n",
        "* \"A.COUNSEL\"\n",
        "* \"R.COUNSEL\"\n",
        "* \"JUDGE\"\n",
        "* \"WIT\"\n",
        "* \"AUTH\"\n",
        "* \"COURT\"\n",
        "* \"STAT\"\n",
        "* \"PREC\"\n",
        "* \"DATE\"\n",
        "* \"CASENO\""
      ],
      "metadata": {
        "id": "qYJwh16x8EUl"
      }
    },
    {
      "cell_type": "code",
      "source": [
        "NER['fold_1'].to_pandas().head()"
      ],
      "metadata": {
        "trusted": true,
        "execution": {
          "iopub.status.busy": "2025-02-19T14:00:31.246151Z",
          "iopub.execute_input": "2025-02-19T14:00:31.246342Z",
          "iopub.status.idle": "2025-02-19T14:00:31.359364Z",
          "shell.execute_reply.started": "2025-02-19T14:00:31.246326Z",
          "shell.execute_reply": "2025-02-19T14:00:31.358765Z"
        },
        "id": "IbfNlS9G8EUm",
        "outputId": "074a8225-a187-41cc-ff4d-09841ceb6642"
      },
      "outputs": [
        {
          "execution_count": 15,
          "output_type": "execute_result",
          "data": {
            "text/plain": "          id                                               text  \\\n0  115651329  REPORTABLE IN THE SUPREME COURT OF INDIA CRIMI...   \n1   37849282  1 REPORTABLE IN THE SUPREME COURT OF INDIA CIV...   \n2     975074  PETITIONER: PARMAR KANAKSINH BHAGWANSINH (DEAD...   \n3  189525449  Non-Reportable IN THE SUPREME COURT OF INDIA C...   \n4     736324  CASE NO.: Special Leave Petition (civil) 14656...   \n\n                                               spans  \n0  [{'start': 137, 'end': 153, 'label': 1}, {'sta...  \n1  [{'start': 20, 'end': 42, 'label': 7}, {'start...  \n2  [{'start': 12, 'end': 40, 'label': 0}, {'start...  \n3  [{'start': 22, 'end': 44, 'label': 7}, {'start...  \n4  [{'start': 10, 'end': 54, 'label': 11}, {'star...  ",
            "text/html": "<div>\n<style scoped>\n    .dataframe tbody tr th:only-of-type {\n        vertical-align: middle;\n    }\n\n    .dataframe tbody tr th {\n        vertical-align: top;\n    }\n\n    .dataframe thead th {\n        text-align: right;\n    }\n</style>\n<table border=\"1\" class=\"dataframe\">\n  <thead>\n    <tr style=\"text-align: right;\">\n      <th></th>\n      <th>id</th>\n      <th>text</th>\n      <th>spans</th>\n    </tr>\n  </thead>\n  <tbody>\n    <tr>\n      <th>0</th>\n      <td>115651329</td>\n      <td>REPORTABLE IN THE SUPREME COURT OF INDIA CRIMI...</td>\n      <td>[{'start': 137, 'end': 153, 'label': 1}, {'sta...</td>\n    </tr>\n    <tr>\n      <th>1</th>\n      <td>37849282</td>\n      <td>1 REPORTABLE IN THE SUPREME COURT OF INDIA CIV...</td>\n      <td>[{'start': 20, 'end': 42, 'label': 7}, {'start...</td>\n    </tr>\n    <tr>\n      <th>2</th>\n      <td>975074</td>\n      <td>PETITIONER: PARMAR KANAKSINH BHAGWANSINH (DEAD...</td>\n      <td>[{'start': 12, 'end': 40, 'label': 0}, {'start...</td>\n    </tr>\n    <tr>\n      <th>3</th>\n      <td>189525449</td>\n      <td>Non-Reportable IN THE SUPREME COURT OF INDIA C...</td>\n      <td>[{'start': 22, 'end': 44, 'label': 7}, {'start...</td>\n    </tr>\n    <tr>\n      <th>4</th>\n      <td>736324</td>\n      <td>CASE NO.: Special Leave Petition (civil) 14656...</td>\n      <td>[{'start': 10, 'end': 54, 'label': 11}, {'star...</td>\n    </tr>\n  </tbody>\n</table>\n</div>"
          },
          "metadata": {}
        }
      ],
      "execution_count": null
    },
    {
      "cell_type": "code",
      "source": [
        "from datasets import DatasetDict, Dataset\n",
        "\n",
        "# Map label indices to their corresponding labels\n",
        "label_map = {\n",
        "    0: \"APP\",\n",
        "    1: \"RESP\",\n",
        "    2: \"A.COUNSEL\",\n",
        "    3: \"R.COUNSEL\",\n",
        "    4: \"JUDGE\",\n",
        "    5: \"WIT\",\n",
        "    6: \"AUTH\",\n",
        "    7: \"COURT\",\n",
        "    8: \"STAT\",\n",
        "    9: \"PREC\",\n",
        "    10: \"DATE\",\n",
        "    11: \"CASENO\"\n",
        "}\n",
        "\n",
        "def annotate_entities(example):\n",
        "    text = example['text']\n",
        "    spans = example['spans']\n",
        "\n",
        "    # Sort spans by start index to avoid overlapping issues\n",
        "    spans = sorted(spans, key=lambda x: x['start'], reverse=True)\n",
        "\n",
        "    # Insert entity tags\n",
        "    for span in spans:\n",
        "        start = span['start']\n",
        "        end = span['end']\n",
        "        label = label_map[span['label']]\n",
        "        entity = text[start:end]\n",
        "        text = text[:start] + f\"<{label}>{entity}</{label}>\" + text[end:]\n",
        "\n",
        "    return {'text': text}\n",
        "\n",
        "# Apply preprocessing to each fold\n",
        "processed_data = DatasetDict({\n",
        "    fold_1: dataset.map(annotate_entities) for fold_1, dataset in NER.items()\n",
        "})"
      ],
      "metadata": {
        "trusted": true,
        "execution": {
          "iopub.status.busy": "2025-02-19T14:00:31.360053Z",
          "iopub.execute_input": "2025-02-19T14:00:31.36024Z",
          "iopub.status.idle": "2025-02-19T14:00:31.376658Z",
          "shell.execute_reply.started": "2025-02-19T14:00:31.360223Z",
          "shell.execute_reply": "2025-02-19T14:00:31.375943Z"
        },
        "id": "Dw-vnWoV8EUo"
      },
      "outputs": [],
      "execution_count": null
    },
    {
      "cell_type": "code",
      "source": [
        "processed_data['fold_1'].to_pandas().head()"
      ],
      "metadata": {
        "trusted": true,
        "execution": {
          "iopub.status.busy": "2025-02-19T14:00:31.377513Z",
          "iopub.execute_input": "2025-02-19T14:00:31.377806Z",
          "iopub.status.idle": "2025-02-19T14:00:31.485408Z",
          "shell.execute_reply.started": "2025-02-19T14:00:31.377771Z",
          "shell.execute_reply": "2025-02-19T14:00:31.484622Z"
        },
        "id": "k_Rytxv78EUq",
        "outputId": "fcbfca55-9e4f-4352-b389-33f0caddcddb"
      },
      "outputs": [
        {
          "execution_count": 17,
          "output_type": "execute_result",
          "data": {
            "text/plain": "          id                                               text  \\\n0  115651329  REPORTABLE IN THE SUPREME COURT OF INDIA CRIMI...   \n1   37849282  1 REPORTABLE IN THE <COURT>SUPREME COURT OF IN...   \n2     975074  PETITIONER: <APP>PARMAR KANAKSINH BHAGWANSINH<...   \n3  189525449  Non-Reportable IN THE <COURT>SUPREME COURT OF ...   \n4     736324  CASE NO.: <CASENO>Special Leave Petition (civi...   \n\n                                               spans  \n0  [{'start': 137, 'end': 153, 'label': 1}, {'sta...  \n1  [{'start': 20, 'end': 42, 'label': 7}, {'start...  \n2  [{'start': 12, 'end': 40, 'label': 0}, {'start...  \n3  [{'start': 22, 'end': 44, 'label': 7}, {'start...  \n4  [{'start': 10, 'end': 54, 'label': 11}, {'star...  ",
            "text/html": "<div>\n<style scoped>\n    .dataframe tbody tr th:only-of-type {\n        vertical-align: middle;\n    }\n\n    .dataframe tbody tr th {\n        vertical-align: top;\n    }\n\n    .dataframe thead th {\n        text-align: right;\n    }\n</style>\n<table border=\"1\" class=\"dataframe\">\n  <thead>\n    <tr style=\"text-align: right;\">\n      <th></th>\n      <th>id</th>\n      <th>text</th>\n      <th>spans</th>\n    </tr>\n  </thead>\n  <tbody>\n    <tr>\n      <th>0</th>\n      <td>115651329</td>\n      <td>REPORTABLE IN THE SUPREME COURT OF INDIA CRIMI...</td>\n      <td>[{'start': 137, 'end': 153, 'label': 1}, {'sta...</td>\n    </tr>\n    <tr>\n      <th>1</th>\n      <td>37849282</td>\n      <td>1 REPORTABLE IN THE &lt;COURT&gt;SUPREME COURT OF IN...</td>\n      <td>[{'start': 20, 'end': 42, 'label': 7}, {'start...</td>\n    </tr>\n    <tr>\n      <th>2</th>\n      <td>975074</td>\n      <td>PETITIONER: &lt;APP&gt;PARMAR KANAKSINH BHAGWANSINH&lt;...</td>\n      <td>[{'start': 12, 'end': 40, 'label': 0}, {'start...</td>\n    </tr>\n    <tr>\n      <th>3</th>\n      <td>189525449</td>\n      <td>Non-Reportable IN THE &lt;COURT&gt;SUPREME COURT OF ...</td>\n      <td>[{'start': 22, 'end': 44, 'label': 7}, {'start...</td>\n    </tr>\n    <tr>\n      <th>4</th>\n      <td>736324</td>\n      <td>CASE NO.: &lt;CASENO&gt;Special Leave Petition (civi...</td>\n      <td>[{'start': 10, 'end': 54, 'label': 11}, {'star...</td>\n    </tr>\n  </tbody>\n</table>\n</div>"
          },
          "metadata": {}
        }
      ],
      "execution_count": null
    },
    {
      "cell_type": "code",
      "source": [
        "def create_input_output(example):\n",
        "    input_text = f\"Perform NER: {example['text']}\"\n",
        "    output_text = example['text']  # Already annotated by annotate_entities\n",
        "    return {'input_text': input_text, 'output_text': output_text}\n",
        "\n",
        "# Apply to each fold\n",
        "processed_data = DatasetDict({\n",
        "    fold: dataset.map(create_input_output) for fold, dataset in processed_data.items()\n",
        "})"
      ],
      "metadata": {
        "trusted": true,
        "execution": {
          "iopub.status.busy": "2025-02-19T14:00:31.486253Z",
          "iopub.execute_input": "2025-02-19T14:00:31.48652Z",
          "iopub.status.idle": "2025-02-19T14:00:31.498252Z",
          "shell.execute_reply.started": "2025-02-19T14:00:31.486501Z",
          "shell.execute_reply": "2025-02-19T14:00:31.497572Z"
        },
        "id": "7lVIBhHc8EUr"
      },
      "outputs": [],
      "execution_count": null
    },
    {
      "cell_type": "code",
      "source": [
        "from transformers import ByT5Tokenizer\n",
        "\n",
        "tokenizer = ByT5Tokenizer.from_pretrained(\"google/byt5-small\")\n",
        "\n",
        "def tokenize_data(example):\n",
        "    model_inputs = tokenizer(example['input_text'], max_length=512, truncation=True)\n",
        "    labels = tokenizer(example['output_text'], max_length=512, truncation=True)\n",
        "    model_inputs['labels'] = labels['input_ids']\n",
        "    return model_inputs\n",
        "\n",
        "# Tokenize each fold\n",
        "tokenized_data = DatasetDict({\n",
        "    fold: dataset.map(tokenize_data, batched=True) for fold, dataset in processed_data.items()\n",
        "})"
      ],
      "metadata": {
        "trusted": true,
        "execution": {
          "iopub.status.busy": "2025-02-19T14:00:31.49891Z",
          "iopub.execute_input": "2025-02-19T14:00:31.499146Z",
          "iopub.status.idle": "2025-02-19T14:00:31.663081Z",
          "shell.execute_reply.started": "2025-02-19T14:00:31.499123Z",
          "shell.execute_reply": "2025-02-19T14:00:31.662299Z"
        },
        "id": "cY2YNXBc8EUs"
      },
      "outputs": [],
      "execution_count": null
    },
    {
      "cell_type": "code",
      "source": [
        "print(tokenized_data['fold_1'][0])  # Inspect the first example in fold_1"
      ],
      "metadata": {
        "trusted": true,
        "execution": {
          "iopub.status.busy": "2025-02-19T14:00:56.600059Z",
          "iopub.execute_input": "2025-02-19T14:00:56.600381Z",
          "iopub.status.idle": "2025-02-19T14:00:56.6089Z",
          "shell.execute_reply.started": "2025-02-19T14:00:56.600357Z",
          "shell.execute_reply": "2025-02-19T14:00:56.608001Z"
        },
        "id": "YYnL5ANz8EUu",
        "outputId": "8bd2f4d9-db89-4aaa-911f-073bd822899f"
      },
      "outputs": [
        {
          "name": "stdout",
          "text": "{'id': '115651329', 'text': 'REPORTABLE IN THE SUPREME COURT OF INDIA CRIMINAL APPELLATE JURISDICTION CRIMINAL APPEAL NO. 92/2015 JAGE RAM & ORS. ..Appellants Versus <RESP>STATE OF HARYANA</RESP> ..Respondent J U D G M E N T R. BANUMATHI, J. This appeal is preferred against the judgment dated <DATE>19.8.2011</DATE> passed by the <COURT>High Court of Punjab and Haryana</COURT> in Criminal Appeal No.181 SB of 2000, whereby the <COURT>High Court</COURT> partly allowed the appeal filed by the appellants thereby confirming the conviction of the appellants with certain modifications. 2. Briefly stated, case of the prosecution is that on the fateful day i.e. <DATE>18.11.1994</DATE>, at about 8.00 A.M. in the morning the complainant <WIT>Jagdish</WIT> (PW-5) along with his two sons namely Sukhbir and <WIT>Mange Ram</WIT> (PW-6) were busy in cutting pullas (reeds) from the dola of their field. At that time, <APP>Jage Ram</APP> (A-1) and his sons Rajbir Singh @ Raju (A-2), Rakesh (A-3) and Madan (A-4) armed with jaily, pharsi and lathis respectively, entered the land where the complainant was working with his sons and asked them not to cut the pullas as it was jointly held by both the parties. Wordy altercations ensued between the parties and <APP>Jage Ram</APP> insisted that he would take away the entire pullas. In the fight, the accused persons started inflicting injuries to the complainant, and his sons Rajbir @ Raju (A-2) gave a pharsi blow on the head of Sukhbir, <APP>Jage Ram</APP> (A-1) caused injury to <WIT>Jagdish</WIT> (PW-5) with two jaily blows. Additionally, Madan and Rakesh attacked the complainant with lathi blows on shoulder and left elbow respectively and caused several other injuries to the complainant party. <WIT>Jagdish</WIT> and his injured sons raised alarm, hearing which Rajesh and Usha came to rescue them and on seeing them, the accused persons fled away. 3. The injured witnesses were taken to the Primary Health Centre, Taoru where Dr. <WIT>Pardeep Kumar</WIT>, Medical Officer, medically examined the injured persons. Injured Sukhbir was vomiting in the hospital and later on he was referred to General Hospital, Gurgaon as his condition deteriorated. A CT scan disclosed that large extra-dural haematoma was found in the frontal region with mass effect and Sukhbir needed urgent surgery and he was operated upon and the large extra-dural haematoma was removed. Dr. <WIT>Pardeep Kumar</WIT> (PW-2) also examined the other injured persons, PW 5-<WIT>Jagdish</WIT> and PW 6- <WIT>Mange Ram</WIT>. 4. Statement of <WIT>Jagdish</WIT> was recorded, based on which F.I.R. was registered at Police Station Taoru, Gurgaon under Sections 323, 324, 325 and 307 read with Section 34 <STAT>IPC</STAT>. PW 8-<WIT>Ramesh Kumar</WIT> (ASI) had taken up the investigation. He examined the witnesses and after completion of investigation, challan was filed under Sections 307, 325, 324 read with Section 34 <STAT>IPC</STAT>. In the trial court, prosecution examined nine witnesses including <WIT>Jagdish</WIT>-PW5, <WIT>Mange Ram</WIT>-PW6 and Dr. <WIT>Prem Kumar</WIT>-PW2 and Dr. <WIT>HiIol Kanti Pal</WIT>-PW9, Neuro Surgeon, PW8-investigating officer and other witnesses. The accused were examined under Section 313 <STAT>Cr.P.C.</STAT> about the incriminating evidence and circumstances. First accused <APP>Jage Ram</APP> pleaded that on the date of occurrence-complainant party <WIT>Jagdish</WIT> and his sons <WIT>Mange Ram</WIT> and Sukhbir forcibly trespassed into the land belonging to the accused and attempted to forcibly cut the pullas. <WIT>Jagdish</WIT> further claims that he along with Rakesh caused injuries to the complainant party in exercise of right of private defence of property. He has denied that Rajesh and Usha had seen the incident. Raju (A-2) and Madan (A-3) stated that they were not present on the spot and they have been falsely implicated. Rakesh (A-4) adopted the stand of his father <APP>Jage Ram</APP>. 5. Upon consideration of oral and documentary evidence, the learned Additional Sessions Judge vide judgment dated <DATE>17.2.2000</DATE> convicted all the accused persons under Sections 307 and 325 <STAT>IPC</STAT> and sentenced them to undergo rigorous imprisonment for five years and one year respectively and a fine of Rs. 500/- each with default clause. Aggrieved by the said judgment, the accused-appellants filed criminal appeal before the <COURT>High Court of Punjab and Haryana</COURT>. The <COURT>High Court</COURT> vide impugned judgment dated <DATE>19.8.2011</DATE> modified the judgment of the trial court thereby convicted <APP>Jage Ram</APP> (A-1) under Section 325 <STAT>IPC</STAT> and sentenced him to undergo rigorous imprisonment for one year, convicted second accused Rajbir @ Raju under Section 307 <STAT>IPC</STAT> and imposed sentence of imprisonment for five years as well the fine of Rs.500/- was confirmed by the <COURT>High Court</COURT>. Sentence under Section 325 <STAT>IPC</STAT> (two counts) was modified as the sentence under Section 323 <STAT>IPC</STAT> and he was sentenced to undergo six months rigorous imprisonment. Both the sentences were ordered to run concurrently. <COURT>High Court</COURT> modified the sentence of Madan (A-3) Rakesh (A-4) under Section 323 <STAT>IPC</STAT> and sentenced them to undergo rigorous imprisonment for six months (two counts) respectively. In this appeal, the appellants assail the correctness of the impugned judgment. 6. Ms. <A.COUNSEL>Vibha Datta Makhija</A.COUNSEL>, learned Senior Counsel appearing for the appellants contended that the evidence of the witnesses suffers from material discrepancy and is self-contradictory. It was submitted that injured witness Sukhbir was not examined in the court and neither CT Scan nor x-ray nor operational notes of Sukhbir were produced before the court and in the absence of such material evidence, courts below erred in convicting the second accused under Section 307 <STAT>IPC</STAT>. Additionally, the learned counsel contended that the defence plea of private defence was not considered by the courts below in proper perspective. 7. Per contra, learned counsel appearing for the respondent-State contended that the evidence of all the witnesses satisfactorily establishes the overt act of the accused persons and <WIT>Jagdish</WIT> (PW-5) and <WIT>Mange Ram</WIT> (PW- 6) being the injured witnesses, the veracity of these witnesses cannot be doubted. It was submitted that the medical evidence sufficiently corroborated the oral evidence and the prosecution has established the intention of the 2nd accused in causing attempt to commit murder of Sukhbir and in appreciation of the evidence, courts below recorded concurrent findings convicting the second accused under Section 307 <STAT>IPC</STAT> and the same warrants no interference. 8. We have carefully considered the rival contentions and gone through the impugned judgment and perused the materials on record. 9. As it emerges from the evidence, complainant <WIT>Jagdish</WIT> (PW-5) and his two sons Sukhbir and <WIT>Mange Ram</WIT> were cutting pullas. The accused party went there and asked them not to cut the pullas. In the wordy altercation, second accused Rajbir @ Raju gave pharsi blows on the head of Sukhbir. PWs 5 & 6 have clearly spoken about the overt act of the accused that A-1 <APP>Jage Ram</APP> attacked and caused injury to PW-5 <WIT>Jagdish</WIT> with jaily blows and that second accused Rajbir @ Raju attacked on the head of Sukhbir with pharsi. They have also stated that Madan and Rakesh caused injuries to PW5-<WIT>Jagdish</WIT> with lathi on shoulder and left elbow respectively. PW 2- Dr. <WIT>Pardeep Kumar</WIT> in his evidence stated that he has examined PWs 5 and 6 and noted the injuries on the body of PWs 5 and 6 and issued wound certificates. Evidence of PWs 5 and 6 is amply corroborated by medical evidence. PWs 5 and 6 being injured witnesses, their evidence is entitled to great weight. Cogent and convincing grounds are required to discard the evidence of injured witnesses. In the light of the fact that PWs 5 and 6 were injured witnesses, courts below tested their evidence for its credibility and recorded concurrent findings that PWs 5 and 6 are trustworthy witnesses. We find no reason to take a different view. 10. Appellants have raised the contention that the prosecution failed to adduce evidence that A-2 Rajbir attempted to commit murder of Sukhbir. It was submitted that injured person Sukhbir was neither examined nor medical evidence like CT Scan, x-ray and operational notes and Sukhbir were produced to corroborate the oral evidence and while so courts below erred in convicting second accused Rajbir @ Raju under Section 307 <STAT>IPC</STAT>. 11. Dr. <WIT>Pardeep Kumar</WIT>-PW-2, who examined Sukhbir found during his medico-legal examination a lacerated wound in the middle of the top of the skull. Injured-Sukhkbir was found vomiting in the hospital and he was examined by a Neuro Surgeon Dr. Hilol Kanti Pal (PW-9) of Safdarjung Hospital, Delhi on <DATE>19.11.1994</DATE>, i.e. the day after the incident. PW-9 has stated that Sukhbir was unconscious since 2.00 P.M. on <DATE>18.11.1994</DATE> and was deeply comatose with irregularity of pupils and a laceration was diagnosed on the right front parietal region. Further, PW-9 has stated that during the CT scan, it was revealed that a large extra-dural haemotoma was present in the frontal region with mass effect and to avoid further deterioration of his condition, he was operated upon by frontal trephine craniopmy an haemotoma measuring about 125 ml was evacuated. PW-9 stated that had not the operation been conducted on Sukhbir and had not the extra- dural haemotoma removed by operation urgently, the head injury caused to Sukhbir would have caused his death. As noted by the <COURT>High Court</COURT>, it is thus brought on evidence that had not surgical assistance been given to Sukhbir, he would have definitely died. 12. For the purpose of conviction under Section 307 <STAT>IPC</STAT>, prosecution has to establish (i) the intention to commit murder and (ii) the act done by the accused. The burden is on the prosecution that accused had attempted to commit the murder of the prosecution witness. Whether the accused person intended to commit murder of another person would depend upon the facts and circumstances of each case. To justify a conviction under Section 307 <STAT>IPC</STAT>, it is not essential that fatal injury capable of causing death should have been caused. Although the nature of injury actually caused may be of assistance in coming to a finding as to the intention of the accused, such intention may also be adduced from other circumstances. The intention of the accused is to be gathered from the circumstances like the nature of the weapon used, words used by the accused at the time of the incident, motive of the accused, parts of the body where the injury was caused and the nature of injury and severity of the blows given etc. 13. In the case of <PREC>State of M.P. vs. Kashiram & Ors.</PREC>[1], the scope of intention for attracting conviction under Section 307 <STAT>IPC</STAT> was elaborated and it was held as under:- \"13. It is sufficient to justify a conviction under Section 307 if there is present an intent coupled with some overt act in execution thereof. It is not essential that bodily injury capable of causing death should have been inflicted. The section makes a distinction between the act of the accused and its result, if any. The court has to see whether the act, irrespective of its result, was done with the intention or knowledge and under circumstances mentioned in the section. Therefore, an accused charged under Section 307 <STAT>IPC</STAT> cannot be acquitted merely because the injuries inflicted on the victim were in the nature of a simple hurt. [pic] 14. This position was highlighted in <PREC>State of Maharashtra v. Balram Bama Patil, (1983) 2 SCC 28</PREC>, <PREC>Girija Shanker v. State of U.P.(2004) 3 SCC 793</PREC> and <PREC>R. Prakash v. State of Karnataka (2004) 9 SCC 27</PREC>. * * * 16. Whether there was intention to kill or knowledge that death will be caused is a question of fact and would depend on the facts of a given case. The circumstances that the injury inflicted by the accused was simple or minor will not by itself rule out application of Section 307 <STAT>IPC</STAT>. The determinative question is the intention or knowledge, as the case may be, and not the nature of the injury.\" See <PREC>State of M.P. v. Saleem (2005) 5 SCC 554</PREC> pp. 559-60, paras 11-14 and 16. 13. \"6. Undue sympathy to impose inadequate sentence would do more harm to the justice system to undermine the public confidence in the efficacy of law and society could not long endure under such serious threats. It is, therefore, the duty of every court to award proper sentence having regard to the nature of the offence and the manner in which it was executed or committed, etc. This position was illuminatingly stated by this Court in <PREC>Sevaka Perumal v. State of T.N.(1991) 3 SCC 471</PREC>.\" 14. Having regard to the weapon used for causing the head injuries to Sukhbir, nature of injures, situs of the injury and the severity of the blows, courts below recorded concurrent findings convicting the 2nd appellant under Section 307 <STAT>IPC</STAT>. In our considered view, the conviction of the second appellant Rajbir @ Raju under Section 307 <STAT>IPC</STAT> is unassailable. 15. Learned counsel for the appellants contended that the second appellant is in custody for more than three years and since the occurrence was in the year 1994, prayed for reduction of the sentence imposed on the second appellant to the period already undergone. Placing reliance upon the judgment of this Court in <PREC>Hari Singh vs. Sukhbir Singh & Ors</PREC>[2]., learned counsel for the appellants additionally submitted that in terms of Section 357 (3) <STAT>Cr.P.C.</STAT> that the compensation may be awarded to the victim and the sentence be modified to the period already undergone. 16. For the conviction under Section 307 <STAT>IPC</STAT>, courts below imposed upon the 2nd appellant rigorous imprisonment of five years, while imposing punishment, courts have an obligation to award appropriate punishment. Question of awarding sentence is a matter of discretion and the same has to be exercised by the courts taking into consideration all the relevant circumstances. What sentence would meet the ends of justice would depend upon the facts and circumstances of each case and the courts must keep in mind the gravity of the offence, motive for the crime, nature of the offence and all other attendant circumstances. Vide <PREC>State of M.P. vs. Bablu Natt</PREC>[3]; <PREC>Alister Anthony Pareira vs. State of Maharashtra</PREC>[4] and <PREC>Soman vs. State of Kerala</PREC>[5]. 17. In the light of the above, considering the case in hand, the occurrence was of the year 1994 when the complainant party was cutting pullas, the accused asked them not to cut the pullas which resulted in the wordy altercation. In the heat of passion, the accused have caused injuries to the complainant party. The second accused Rajbir @ Raju is in custody. He surrendered on <DATE>5.1.2012</DATE> and is stated to be in custody since then, for more than three years. Having regard to the facts and circumstances of the case, in our considered view, the period of sentence of five years may be reduced to three years apart from directing the second appellant Rajbir @ Raju to pay substantial compensation to injured- Sukhbir. 18. As noticed above, injured-Sukhbir sustained grievous head injuries and was deeply comatose and was in a state of shock and trauma. Learned counsel for the injured-witness submitted that for quite some time injured-Sukhbir was unconscious and thereafter suffering from mental trauma. Having regard to the nature of injuries sustained by Sukhbir and the period of treatment and other circumstances, we are of the view that, it would be appropriate to direct second appellant-accused Rajbir @ Raju to pay Rs.7,50,000/- as compensation to the injured-Sukhbir. When the matter came up for hearing on <DATE>14.10.2014</DATE>, learned counsel for the appellants informed the Court that he had offered Rs.5,00,000/- by way of demand draft towards compensation to the injured-Sukhbir in the presence of the Sarpanch of the village which he has refused to receive the same. The said amount of Rs.5,00,000/- is now kept in fixed deposit in the Registry of this Court. 19. For inflicting blows on PW-5 <WIT>Jagidsh</WIT> with jaily A-1 <APP>Jage Ram</APP> was convicted under Section 325 <STAT>IPC</STAT> and sentenced to undergo rigorous imprisonment for one year. A-3 and A-4 have also given lathis blows to PW- 5 and were convicted under Section 323 <STAT>IPC</STAT> and sentenced to undergo rigorous imprisonment for three months by the <COURT>High Court</COURT>. Having regard to the fact that the occurrence was of the year 1994, considering the other facts and circumstances of the case, the sentence of imprisonment imposed on <APP>Jage Ram</APP> (A-1), Madan (A-3) and Rakesh (A-4) is reduced to the period already undergone by them. 20. The conviction of A-1 under Section 325 <STAT>IPC</STAT>, A-3 and A-4 under Section 323 <STAT>IPC</STAT> is confirmed and the sentence is reduced to the period already undergone by each of them. The conviction of second accused Rajbir @ Raju under Section 307 <STAT>IPC</STAT> is confirmed and the sentence of imprisonment of five years is reduced to the period already undergone and additionally the second accused shall pay a compensation of Rs.7,50,000/- to the injured witness-Sukhbir. Compensation amount of Rs.5,00,000/- deposited in this Court by the 2nd appellant shall be paid to the injured witness-Sukhbir. The second accused Rajbir @ Raju shall deposit the balance compensation amount of Rs.2,50,000/- before the trial court within three months from the date of this judgment and on such deposit, the same shall also be paid to the injured witness-Sukhbir. On failure to deposit the balance compensation, the second appellant Rajbir @ Raju shall undergo default sentence of one year. 21. The appeal is allowed to the above said extent. Second appellant Rajbir @ Raju is ordered to be released forthwith if not required in any other case. Bail bonds of accused A1, A3 and A4 shall stand discharged. ...........................J. (<JUDGE>V. Gopala Gowda</JUDGE>) ...........................J. (<JUDGE>R. Banumathi</JUDGE>) New Delhi;<DATE>January 28, 2015</DATE> ITEM NO.1A-For JUDGMENT COURT NO.12 SECTION IIB S U P R E M E C O U R T O F I N D I A RECORD OF PROCEEDINGS Criminal Appeal No(s). 92/2015 arising from SLP(Crl.) No. 488/2012 JAGE RAM & ORS. Appellant(s) VERSUS <RESP>STATE OF HARYANA</RESP> & ANR. Respondent(s) Date : <DATE>28/01/2015</DATE> This appeal was called on for pronouncement of JUDGMENT today. For Appellant(s) Mr. <A.COUNSEL>Gagan Gupta</A.COUNSEL>,Adv. For Respondent(s) Mr. <R.COUNSEL>Ajay Bansal</R.COUNSEL>, AAG Mr. <R.COUNSEL>Kamal Mohan Gupta</R.COUNSEL>,Adv. Mr. <R.COUNSEL>Gaurav Yadav</R.COUNSEL>, Adv. Mr. <R.COUNSEL>Akshat Goel</R.COUNSEL>,Adv. Hon\\'ble Mrs. Justice <JUDGE>R. Banumathi</JUDGE> pronounced the judgment of the Bench comprising of Hon\\'ble Mr. Justice <JUDGE>V. Gopala Gowda</JUDGE> and Hon\\'ble Mrs. Justice <JUDGE>R. Banumathi</JUDGE>. The appeal is allowed in terms of the signed reportable judgment. Second appellant Rajbir @ Raju is ordered to be released forthwith if not required in any other case. Bail bonds of accused A1, A3 and A4 shall stand discharged. (VINOD KR. JHA) (MALA KUMARI SHARMA) COURT MASTER COURT MASTER (Signed Reportable judgment is placed on the file) ----------------------- [1] [2] AIR 2009 SC 1642 = (2009) 4 SCC 26 [3] [4] <CASENO>(1988) 4 SCC 551</CASENO> [5] [6] <CASENO>(2009) 2 SCC 272</CASENO> [7] [8] (2012) 2 SCC 648 [9] [10] (2013) 11 SCC 382', 'spans': [{'start': 137, 'end': 153, 'label': 1}, {'start': 252, 'end': 261, 'label': 10}, {'start': 276, 'end': 308, 'label': 7}, {'start': 359, 'end': 369, 'label': 7}, {'start': 575, 'end': 585, 'label': 10}, {'start': 637, 'end': 644, 'label': 5}, {'start': 695, 'end': 704, 'label': 5}, {'start': 792, 'end': 800, 'label': 0}, {'start': 1122, 'end': 1130, 'label': 0}, {'start': 1341, 'end': 1349, 'label': 0}, {'start': 1373, 'end': 1380, 'label': 5}, {'start': 1583, 'end': 1590, 'label': 5}, {'start': 1809, 'end': 1822, 'label': 5}, {'start': 2229, 'end': 2242, 'label': 5}, {'start': 2296, 'end': 2303, 'label': 5}, {'start': 2314, 'end': 2323, 'label': 5}, {'start': 2341, 'end': 2348, 'label': 5}, {'start': 2491, 'end': 2494, 'label': 8}, {'start': 2501, 'end': 2513, 'label': 5}, {'start': 2685, 'end': 2688, 'label': 8}, {'start': 2756, 'end': 2763, 'label': 5}, {'start': 2769, 'end': 2778, 'label': 5}, {'start': 2791, 'end': 2801, 'label': 5}, {'start': 2814, 'end': 2829, 'label': 5}, {'start': 2941, 'end': 2948, 'label': 8}, {'start': 3015, 'end': 3023, 'label': 0}, {'start': 3081, 'end': 3088, 'label': 5}, {'start': 3102, 'end': 3111, 'label': 5}, {'start': 3225, 'end': 3232, 'label': 5}, {'start': 3583, 'end': 3591, 'label': 0}, {'start': 3707, 'end': 3716, 'label': 10}, {'start': 3778, 'end': 3781, 'label': 8}, {'start': 4013, 'end': 4045, 'label': 7}, {'start': 4051, 'end': 4061, 'label': 7}, {'start': 4091, 'end': 4100, 'label': 10}, {'start': 4160, 'end': 4168, 'label': 0}, {'start': 4193, 'end': 4196, 'label': 8}, {'start': 4319, 'end': 4322, 'label': 8}, {'start': 4425, 'end': 4435, 'label': 7}, {'start': 4464, 'end': 4467, 'label': 8}, {'start': 4528, 'end': 4531, 'label': 8}, {'start': 4651, 'end': 4661, 'label': 7}, {'start': 4730, 'end': 4733, 'label': 8}, {'start': 4915, 'end': 4934, 'label': 2}, {'start': 5380, 'end': 5383, 'label': 8}, {'start': 5715, 'end': 5722, 'label': 5}, {'start': 5734, 'end': 5743, 'label': 5}, {'start': 6162, 'end': 6165, 'label': 8}, {'start': 6383, 'end': 6390, 'label': 5}, {'start': 6427, 'end': 6436, 'label': 5}, {'start': 6696, 'end': 6704, 'label': 0}, {'start': 6740, 'end': 6747, 'label': 5}, {'start': 6915, 'end': 6922, 'label': 5}, {'start': 6985, 'end': 6998, 'label': 5}, {'start': 8040, 'end': 8043, 'label': 8}, {'start': 8053, 'end': 8066, 'label': 5}, {'start': 8344, 'end': 8354, 'label': 10}, {'start': 8453, 'end': 8463, 'label': 10}, {'start': 9104, 'end': 9114, 'label': 7}, {'start': 9286, 'end': 9289, 'label': 8}, {'start': 9675, 'end': 9678, 'label': 8}, {'start': 10266, 'end': 10299, 'label': 9}, {'start': 10371, 'end': 10374, 'label': 8}, {'start': 10945, 'end': 10948, 'label': 8}, {'start': 11101, 'end': 11159, 'label': 9}, {'start': 11161, 'end': 11208, 'label': 9}, {'start': 11213, 'end': 11261, 'label': 9}, {'start': 11551, 'end': 11554, 'label': 8}, {'start': 11673, 'end': 11713, 'label': 9}, {'start': 12186, 'end': 12233, 'label': 9}, {'start': 12474, 'end': 12477, 'label': 8}, {'start': 12574, 'end': 12577, 'label': 8}, {'start': 12911, 'end': 12945, 'label': 9}, {'start': 13042, 'end': 13049, 'label': 8}, {'start': 13204, 'end': 13207, 'label': 8}, {'start': 13790, 'end': 13818, 'label': 9}, {'start': 13823, 'end': 13871, 'label': 9}, {'start': 13879, 'end': 13904, 'label': 9}, {'start': 14288, 'end': 14296, 'label': 10}, {'start': 15224, 'end': 15234, 'label': 10}, {'start': 15606, 'end': 15613, 'label': 5}, {'start': 15629, 'end': 15637, 'label': 0}, {'start': 15670, 'end': 15673, 'label': 8}, {'start': 15822, 'end': 15825, 'label': 8}, {'start': 15897, 'end': 15907, 'label': 7}, {'start': 16076, 'end': 16084, 'label': 0}, {'start': 16217, 'end': 16220, 'label': 8}, {'start': 16252, 'end': 16255, 'label': 8}, {'start': 16411, 'end': 16414, 'label': 8}, {'start': 17379, 'end': 17394, 'label': 4}, {'start': 17427, 'end': 17439, 'label': 4}, {'start': 17451, 'end': 17467, 'label': 10}, {'start': 17679, 'end': 17695, 'label': 1}, {'start': 17724, 'end': 17734, 'label': 10}, {'start': 17819, 'end': 17830, 'label': 2}, {'start': 17858, 'end': 17869, 'label': 3}, {'start': 17879, 'end': 17896, 'label': 3}, {'start': 17906, 'end': 17918, 'label': 3}, {'start': 17929, 'end': 17940, 'label': 3}, {'start': 17967, 'end': 17979, 'label': 4}, {'start': 18051, 'end': 18066, 'label': 4}, {'start': 18092, 'end': 18104, 'label': 4}, {'start': 18523, 'end': 18539, 'label': 11}, {'start': 18548, 'end': 18564, 'label': 11}], 'input_text': 'Perform NER: REPORTABLE IN THE SUPREME COURT OF INDIA CRIMINAL APPELLATE JURISDICTION CRIMINAL APPEAL NO. 92/2015 JAGE RAM & ORS. ..Appellants Versus <RESP>STATE OF HARYANA</RESP> ..Respondent J U D G M E N T R. BANUMATHI, J. This appeal is preferred against the judgment dated <DATE>19.8.2011</DATE> passed by the <COURT>High Court of Punjab and Haryana</COURT> in Criminal Appeal No.181 SB of 2000, whereby the <COURT>High Court</COURT> partly allowed the appeal filed by the appellants thereby confirming the conviction of the appellants with certain modifications. 2. Briefly stated, case of the prosecution is that on the fateful day i.e. <DATE>18.11.1994</DATE>, at about 8.00 A.M. in the morning the complainant <WIT>Jagdish</WIT> (PW-5) along with his two sons namely Sukhbir and <WIT>Mange Ram</WIT> (PW-6) were busy in cutting pullas (reeds) from the dola of their field. At that time, <APP>Jage Ram</APP> (A-1) and his sons Rajbir Singh @ Raju (A-2), Rakesh (A-3) and Madan (A-4) armed with jaily, pharsi and lathis respectively, entered the land where the complainant was working with his sons and asked them not to cut the pullas as it was jointly held by both the parties. Wordy altercations ensued between the parties and <APP>Jage Ram</APP> insisted that he would take away the entire pullas. In the fight, the accused persons started inflicting injuries to the complainant, and his sons Rajbir @ Raju (A-2) gave a pharsi blow on the head of Sukhbir, <APP>Jage Ram</APP> (A-1) caused injury to <WIT>Jagdish</WIT> (PW-5) with two jaily blows. Additionally, Madan and Rakesh attacked the complainant with lathi blows on shoulder and left elbow respectively and caused several other injuries to the complainant party. <WIT>Jagdish</WIT> and his injured sons raised alarm, hearing which Rajesh and Usha came to rescue them and on seeing them, the accused persons fled away. 3. The injured witnesses were taken to the Primary Health Centre, Taoru where Dr. <WIT>Pardeep Kumar</WIT>, Medical Officer, medically examined the injured persons. Injured Sukhbir was vomiting in the hospital and later on he was referred to General Hospital, Gurgaon as his condition deteriorated. A CT scan disclosed that large extra-dural haematoma was found in the frontal region with mass effect and Sukhbir needed urgent surgery and he was operated upon and the large extra-dural haematoma was removed. Dr. <WIT>Pardeep Kumar</WIT> (PW-2) also examined the other injured persons, PW 5-<WIT>Jagdish</WIT> and PW 6- <WIT>Mange Ram</WIT>. 4. Statement of <WIT>Jagdish</WIT> was recorded, based on which F.I.R. was registered at Police Station Taoru, Gurgaon under Sections 323, 324, 325 and 307 read with Section 34 <STAT>IPC</STAT>. PW 8-<WIT>Ramesh Kumar</WIT> (ASI) had taken up the investigation. He examined the witnesses and after completion of investigation, challan was filed under Sections 307, 325, 324 read with Section 34 <STAT>IPC</STAT>. In the trial court, prosecution examined nine witnesses including <WIT>Jagdish</WIT>-PW5, <WIT>Mange Ram</WIT>-PW6 and Dr. <WIT>Prem Kumar</WIT>-PW2 and Dr. <WIT>HiIol Kanti Pal</WIT>-PW9, Neuro Surgeon, PW8-investigating officer and other witnesses. The accused were examined under Section 313 <STAT>Cr.P.C.</STAT> about the incriminating evidence and circumstances. First accused <APP>Jage Ram</APP> pleaded that on the date of occurrence-complainant party <WIT>Jagdish</WIT> and his sons <WIT>Mange Ram</WIT> and Sukhbir forcibly trespassed into the land belonging to the accused and attempted to forcibly cut the pullas. <WIT>Jagdish</WIT> further claims that he along with Rakesh caused injuries to the complainant party in exercise of right of private defence of property. He has denied that Rajesh and Usha had seen the incident. Raju (A-2) and Madan (A-3) stated that they were not present on the spot and they have been falsely implicated. Rakesh (A-4) adopted the stand of his father <APP>Jage Ram</APP>. 5. Upon consideration of oral and documentary evidence, the learned Additional Sessions Judge vide judgment dated <DATE>17.2.2000</DATE> convicted all the accused persons under Sections 307 and 325 <STAT>IPC</STAT> and sentenced them to undergo rigorous imprisonment for five years and one year respectively and a fine of Rs. 500/- each with default clause. Aggrieved by the said judgment, the accused-appellants filed criminal appeal before the <COURT>High Court of Punjab and Haryana</COURT>. The <COURT>High Court</COURT> vide impugned judgment dated <DATE>19.8.2011</DATE> modified the judgment of the trial court thereby convicted <APP>Jage Ram</APP> (A-1) under Section 325 <STAT>IPC</STAT> and sentenced him to undergo rigorous imprisonment for one year, convicted second accused Rajbir @ Raju under Section 307 <STAT>IPC</STAT> and imposed sentence of imprisonment for five years as well the fine of Rs.500/- was confirmed by the <COURT>High Court</COURT>. Sentence under Section 325 <STAT>IPC</STAT> (two counts) was modified as the sentence under Section 323 <STAT>IPC</STAT> and he was sentenced to undergo six months rigorous imprisonment. Both the sentences were ordered to run concurrently. <COURT>High Court</COURT> modified the sentence of Madan (A-3) Rakesh (A-4) under Section 323 <STAT>IPC</STAT> and sentenced them to undergo rigorous imprisonment for six months (two counts) respectively. In this appeal, the appellants assail the correctness of the impugned judgment. 6. Ms. <A.COUNSEL>Vibha Datta Makhija</A.COUNSEL>, learned Senior Counsel appearing for the appellants contended that the evidence of the witnesses suffers from material discrepancy and is self-contradictory. It was submitted that injured witness Sukhbir was not examined in the court and neither CT Scan nor x-ray nor operational notes of Sukhbir were produced before the court and in the absence of such material evidence, courts below erred in convicting the second accused under Section 307 <STAT>IPC</STAT>. Additionally, the learned counsel contended that the defence plea of private defence was not considered by the courts below in proper perspective. 7. Per contra, learned counsel appearing for the respondent-State contended that the evidence of all the witnesses satisfactorily establishes the overt act of the accused persons and <WIT>Jagdish</WIT> (PW-5) and <WIT>Mange Ram</WIT> (PW- 6) being the injured witnesses, the veracity of these witnesses cannot be doubted. It was submitted that the medical evidence sufficiently corroborated the oral evidence and the prosecution has established the intention of the 2nd accused in causing attempt to commit murder of Sukhbir and in appreciation of the evidence, courts below recorded concurrent findings convicting the second accused under Section 307 <STAT>IPC</STAT> and the same warrants no interference. 8. We have carefully considered the rival contentions and gone through the impugned judgment and perused the materials on record. 9. As it emerges from the evidence, complainant <WIT>Jagdish</WIT> (PW-5) and his two sons Sukhbir and <WIT>Mange Ram</WIT> were cutting pullas. The accused party went there and asked them not to cut the pullas. In the wordy altercation, second accused Rajbir @ Raju gave pharsi blows on the head of Sukhbir. PWs 5 & 6 have clearly spoken about the overt act of the accused that A-1 <APP>Jage Ram</APP> attacked and caused injury to PW-5 <WIT>Jagdish</WIT> with jaily blows and that second accused Rajbir @ Raju attacked on the head of Sukhbir with pharsi. They have also stated that Madan and Rakesh caused injuries to PW5-<WIT>Jagdish</WIT> with lathi on shoulder and left elbow respectively. PW 2- Dr. <WIT>Pardeep Kumar</WIT> in his evidence stated that he has examined PWs 5 and 6 and noted the injuries on the body of PWs 5 and 6 and issued wound certificates. Evidence of PWs 5 and 6 is amply corroborated by medical evidence. PWs 5 and 6 being injured witnesses, their evidence is entitled to great weight. Cogent and convincing grounds are required to discard the evidence of injured witnesses. In the light of the fact that PWs 5 and 6 were injured witnesses, courts below tested their evidence for its credibility and recorded concurrent findings that PWs 5 and 6 are trustworthy witnesses. We find no reason to take a different view. 10. Appellants have raised the contention that the prosecution failed to adduce evidence that A-2 Rajbir attempted to commit murder of Sukhbir. It was submitted that injured person Sukhbir was neither examined nor medical evidence like CT Scan, x-ray and operational notes and Sukhbir were produced to corroborate the oral evidence and while so courts below erred in convicting second accused Rajbir @ Raju under Section 307 <STAT>IPC</STAT>. 11. Dr. <WIT>Pardeep Kumar</WIT>-PW-2, who examined Sukhbir found during his medico-legal examination a lacerated wound in the middle of the top of the skull. Injured-Sukhkbir was found vomiting in the hospital and he was examined by a Neuro Surgeon Dr. Hilol Kanti Pal (PW-9) of Safdarjung Hospital, Delhi on <DATE>19.11.1994</DATE>, i.e. the day after the incident. PW-9 has stated that Sukhbir was unconscious since 2.00 P.M. on <DATE>18.11.1994</DATE> and was deeply comatose with irregularity of pupils and a laceration was diagnosed on the right front parietal region. Further, PW-9 has stated that during the CT scan, it was revealed that a large extra-dural haemotoma was present in the frontal region with mass effect and to avoid further deterioration of his condition, he was operated upon by frontal trephine craniopmy an haemotoma measuring about 125 ml was evacuated. PW-9 stated that had not the operation been conducted on Sukhbir and had not the extra- dural haemotoma removed by operation urgently, the head injury caused to Sukhbir would have caused his death. As noted by the <COURT>High Court</COURT>, it is thus brought on evidence that had not surgical assistance been given to Sukhbir, he would have definitely died. 12. For the purpose of conviction under Section 307 <STAT>IPC</STAT>, prosecution has to establish (i) the intention to commit murder and (ii) the act done by the accused. The burden is on the prosecution that accused had attempted to commit the murder of the prosecution witness. Whether the accused person intended to commit murder of another person would depend upon the facts and circumstances of each case. To justify a conviction under Section 307 <STAT>IPC</STAT>, it is not essential that fatal injury capable of causing death should have been caused. Although the nature of injury actually caused may be of assistance in coming to a finding as to the intention of the accused, such intention may also be adduced from other circumstances. The intention of the accused is to be gathered from the circumstances like the nature of the weapon used, words used by the accused at the time of the incident, motive of the accused, parts of the body where the injury was caused and the nature of injury and severity of the blows given etc. 13. In the case of <PREC>State of M.P. vs. Kashiram & Ors.</PREC>[1], the scope of intention for attracting conviction under Section 307 <STAT>IPC</STAT> was elaborated and it was held as under:- \"13. It is sufficient to justify a conviction under Section 307 if there is present an intent coupled with some overt act in execution thereof. It is not essential that bodily injury capable of causing death should have been inflicted. The section makes a distinction between the act of the accused and its result, if any. The court has to see whether the act, irrespective of its result, was done with the intention or knowledge and under circumstances mentioned in the section. Therefore, an accused charged under Section 307 <STAT>IPC</STAT> cannot be acquitted merely because the injuries inflicted on the victim were in the nature of a simple hurt. [pic] 14. This position was highlighted in <PREC>State of Maharashtra v. Balram Bama Patil, (1983) 2 SCC 28</PREC>, <PREC>Girija Shanker v. State of U.P.(2004) 3 SCC 793</PREC> and <PREC>R. Prakash v. State of Karnataka (2004) 9 SCC 27</PREC>. * * * 16. Whether there was intention to kill or knowledge that death will be caused is a question of fact and would depend on the facts of a given case. The circumstances that the injury inflicted by the accused was simple or minor will not by itself rule out application of Section 307 <STAT>IPC</STAT>. The determinative question is the intention or knowledge, as the case may be, and not the nature of the injury.\" See <PREC>State of M.P. v. Saleem (2005) 5 SCC 554</PREC> pp. 559-60, paras 11-14 and 16. 13. \"6. Undue sympathy to impose inadequate sentence would do more harm to the justice system to undermine the public confidence in the efficacy of law and society could not long endure under such serious threats. It is, therefore, the duty of every court to award proper sentence having regard to the nature of the offence and the manner in which it was executed or committed, etc. This position was illuminatingly stated by this Court in <PREC>Sevaka Perumal v. State of T.N.(1991) 3 SCC 471</PREC>.\" 14. Having regard to the weapon used for causing the head injuries to Sukhbir, nature of injures, situs of the injury and the severity of the blows, courts below recorded concurrent findings convicting the 2nd appellant under Section 307 <STAT>IPC</STAT>. In our considered view, the conviction of the second appellant Rajbir @ Raju under Section 307 <STAT>IPC</STAT> is unassailable. 15. Learned counsel for the appellants contended that the second appellant is in custody for more than three years and since the occurrence was in the year 1994, prayed for reduction of the sentence imposed on the second appellant to the period already undergone. Placing reliance upon the judgment of this Court in <PREC>Hari Singh vs. Sukhbir Singh & Ors</PREC>[2]., learned counsel for the appellants additionally submitted that in terms of Section 357 (3) <STAT>Cr.P.C.</STAT> that the compensation may be awarded to the victim and the sentence be modified to the period already undergone. 16. For the conviction under Section 307 <STAT>IPC</STAT>, courts below imposed upon the 2nd appellant rigorous imprisonment of five years, while imposing punishment, courts have an obligation to award appropriate punishment. Question of awarding sentence is a matter of discretion and the same has to be exercised by the courts taking into consideration all the relevant circumstances. What sentence would meet the ends of justice would depend upon the facts and circumstances of each case and the courts must keep in mind the gravity of the offence, motive for the crime, nature of the offence and all other attendant circumstances. Vide <PREC>State of M.P. vs. Bablu Natt</PREC>[3]; <PREC>Alister Anthony Pareira vs. State of Maharashtra</PREC>[4] and <PREC>Soman vs. State of Kerala</PREC>[5]. 17. In the light of the above, considering the case in hand, the occurrence was of the year 1994 when the complainant party was cutting pullas, the accused asked them not to cut the pullas which resulted in the wordy altercation. In the heat of passion, the accused have caused injuries to the complainant party. The second accused Rajbir @ Raju is in custody. He surrendered on <DATE>5.1.2012</DATE> and is stated to be in custody since then, for more than three years. Having regard to the facts and circumstances of the case, in our considered view, the period of sentence of five years may be reduced to three years apart from directing the second appellant Rajbir @ Raju to pay substantial compensation to injured- Sukhbir. 18. As noticed above, injured-Sukhbir sustained grievous head injuries and was deeply comatose and was in a state of shock and trauma. Learned counsel for the injured-witness submitted that for quite some time injured-Sukhbir was unconscious and thereafter suffering from mental trauma. Having regard to the nature of injuries sustained by Sukhbir and the period of treatment and other circumstances, we are of the view that, it would be appropriate to direct second appellant-accused Rajbir @ Raju to pay Rs.7,50,000/- as compensation to the injured-Sukhbir. When the matter came up for hearing on <DATE>14.10.2014</DATE>, learned counsel for the appellants informed the Court that he had offered Rs.5,00,000/- by way of demand draft towards compensation to the injured-Sukhbir in the presence of the Sarpanch of the village which he has refused to receive the same. The said amount of Rs.5,00,000/- is now kept in fixed deposit in the Registry of this Court. 19. For inflicting blows on PW-5 <WIT>Jagidsh</WIT> with jaily A-1 <APP>Jage Ram</APP> was convicted under Section 325 <STAT>IPC</STAT> and sentenced to undergo rigorous imprisonment for one year. A-3 and A-4 have also given lathis blows to PW- 5 and were convicted under Section 323 <STAT>IPC</STAT> and sentenced to undergo rigorous imprisonment for three months by the <COURT>High Court</COURT>. Having regard to the fact that the occurrence was of the year 1994, considering the other facts and circumstances of the case, the sentence of imprisonment imposed on <APP>Jage Ram</APP> (A-1), Madan (A-3) and Rakesh (A-4) is reduced to the period already undergone by them. 20. The conviction of A-1 under Section 325 <STAT>IPC</STAT>, A-3 and A-4 under Section 323 <STAT>IPC</STAT> is confirmed and the sentence is reduced to the period already undergone by each of them. The conviction of second accused Rajbir @ Raju under Section 307 <STAT>IPC</STAT> is confirmed and the sentence of imprisonment of five years is reduced to the period already undergone and additionally the second accused shall pay a compensation of Rs.7,50,000/- to the injured witness-Sukhbir. Compensation amount of Rs.5,00,000/- deposited in this Court by the 2nd appellant shall be paid to the injured witness-Sukhbir. The second accused Rajbir @ Raju shall deposit the balance compensation amount of Rs.2,50,000/- before the trial court within three months from the date of this judgment and on such deposit, the same shall also be paid to the injured witness-Sukhbir. On failure to deposit the balance compensation, the second appellant Rajbir @ Raju shall undergo default sentence of one year. 21. The appeal is allowed to the above said extent. Second appellant Rajbir @ Raju is ordered to be released forthwith if not required in any other case. Bail bonds of accused A1, A3 and A4 shall stand discharged. ...........................J. (<JUDGE>V. Gopala Gowda</JUDGE>) ...........................J. (<JUDGE>R. Banumathi</JUDGE>) New Delhi;<DATE>January 28, 2015</DATE> ITEM NO.1A-For JUDGMENT COURT NO.12 SECTION IIB S U P R E M E C O U R T O F I N D I A RECORD OF PROCEEDINGS Criminal Appeal No(s). 92/2015 arising from SLP(Crl.) No. 488/2012 JAGE RAM & ORS. Appellant(s) VERSUS <RESP>STATE OF HARYANA</RESP> & ANR. Respondent(s) Date : <DATE>28/01/2015</DATE> This appeal was called on for pronouncement of JUDGMENT today. For Appellant(s) Mr. <A.COUNSEL>Gagan Gupta</A.COUNSEL>,Adv. For Respondent(s) Mr. <R.COUNSEL>Ajay Bansal</R.COUNSEL>, AAG Mr. <R.COUNSEL>Kamal Mohan Gupta</R.COUNSEL>,Adv. Mr. <R.COUNSEL>Gaurav Yadav</R.COUNSEL>, Adv. Mr. <R.COUNSEL>Akshat Goel</R.COUNSEL>,Adv. Hon\\'ble Mrs. Justice <JUDGE>R. Banumathi</JUDGE> pronounced the judgment of the Bench comprising of Hon\\'ble Mr. Justice <JUDGE>V. Gopala Gowda</JUDGE> and Hon\\'ble Mrs. Justice <JUDGE>R. Banumathi</JUDGE>. The appeal is allowed in terms of the signed reportable judgment. Second appellant Rajbir @ Raju is ordered to be released forthwith if not required in any other case. Bail bonds of accused A1, A3 and A4 shall stand discharged. (VINOD KR. JHA) (MALA KUMARI SHARMA) COURT MASTER COURT MASTER (Signed Reportable judgment is placed on the file) ----------------------- [1] [2] AIR 2009 SC 1642 = (2009) 4 SCC 26 [3] [4] <CASENO>(1988) 4 SCC 551</CASENO> [5] [6] <CASENO>(2009) 2 SCC 272</CASENO> [7] [8] (2012) 2 SCC 648 [9] [10] (2013) 11 SCC 382', 'output_text': 'REPORTABLE IN THE SUPREME COURT OF INDIA CRIMINAL APPELLATE JURISDICTION CRIMINAL APPEAL NO. 92/2015 JAGE RAM & ORS. ..Appellants Versus <RESP>STATE OF HARYANA</RESP> ..Respondent J U D G M E N T R. BANUMATHI, J. This appeal is preferred against the judgment dated <DATE>19.8.2011</DATE> passed by the <COURT>High Court of Punjab and Haryana</COURT> in Criminal Appeal No.181 SB of 2000, whereby the <COURT>High Court</COURT> partly allowed the appeal filed by the appellants thereby confirming the conviction of the appellants with certain modifications. 2. Briefly stated, case of the prosecution is that on the fateful day i.e. <DATE>18.11.1994</DATE>, at about 8.00 A.M. in the morning the complainant <WIT>Jagdish</WIT> (PW-5) along with his two sons namely Sukhbir and <WIT>Mange Ram</WIT> (PW-6) were busy in cutting pullas (reeds) from the dola of their field. At that time, <APP>Jage Ram</APP> (A-1) and his sons Rajbir Singh @ Raju (A-2), Rakesh (A-3) and Madan (A-4) armed with jaily, pharsi and lathis respectively, entered the land where the complainant was working with his sons and asked them not to cut the pullas as it was jointly held by both the parties. Wordy altercations ensued between the parties and <APP>Jage Ram</APP> insisted that he would take away the entire pullas. In the fight, the accused persons started inflicting injuries to the complainant, and his sons Rajbir @ Raju (A-2) gave a pharsi blow on the head of Sukhbir, <APP>Jage Ram</APP> (A-1) caused injury to <WIT>Jagdish</WIT> (PW-5) with two jaily blows. Additionally, Madan and Rakesh attacked the complainant with lathi blows on shoulder and left elbow respectively and caused several other injuries to the complainant party. <WIT>Jagdish</WIT> and his injured sons raised alarm, hearing which Rajesh and Usha came to rescue them and on seeing them, the accused persons fled away. 3. The injured witnesses were taken to the Primary Health Centre, Taoru where Dr. <WIT>Pardeep Kumar</WIT>, Medical Officer, medically examined the injured persons. Injured Sukhbir was vomiting in the hospital and later on he was referred to General Hospital, Gurgaon as his condition deteriorated. A CT scan disclosed that large extra-dural haematoma was found in the frontal region with mass effect and Sukhbir needed urgent surgery and he was operated upon and the large extra-dural haematoma was removed. Dr. <WIT>Pardeep Kumar</WIT> (PW-2) also examined the other injured persons, PW 5-<WIT>Jagdish</WIT> and PW 6- <WIT>Mange Ram</WIT>. 4. Statement of <WIT>Jagdish</WIT> was recorded, based on which F.I.R. was registered at Police Station Taoru, Gurgaon under Sections 323, 324, 325 and 307 read with Section 34 <STAT>IPC</STAT>. PW 8-<WIT>Ramesh Kumar</WIT> (ASI) had taken up the investigation. He examined the witnesses and after completion of investigation, challan was filed under Sections 307, 325, 324 read with Section 34 <STAT>IPC</STAT>. In the trial court, prosecution examined nine witnesses including <WIT>Jagdish</WIT>-PW5, <WIT>Mange Ram</WIT>-PW6 and Dr. <WIT>Prem Kumar</WIT>-PW2 and Dr. <WIT>HiIol Kanti Pal</WIT>-PW9, Neuro Surgeon, PW8-investigating officer and other witnesses. The accused were examined under Section 313 <STAT>Cr.P.C.</STAT> about the incriminating evidence and circumstances. First accused <APP>Jage Ram</APP> pleaded that on the date of occurrence-complainant party <WIT>Jagdish</WIT> and his sons <WIT>Mange Ram</WIT> and Sukhbir forcibly trespassed into the land belonging to the accused and attempted to forcibly cut the pullas. <WIT>Jagdish</WIT> further claims that he along with Rakesh caused injuries to the complainant party in exercise of right of private defence of property. He has denied that Rajesh and Usha had seen the incident. Raju (A-2) and Madan (A-3) stated that they were not present on the spot and they have been falsely implicated. Rakesh (A-4) adopted the stand of his father <APP>Jage Ram</APP>. 5. Upon consideration of oral and documentary evidence, the learned Additional Sessions Judge vide judgment dated <DATE>17.2.2000</DATE> convicted all the accused persons under Sections 307 and 325 <STAT>IPC</STAT> and sentenced them to undergo rigorous imprisonment for five years and one year respectively and a fine of Rs. 500/- each with default clause. Aggrieved by the said judgment, the accused-appellants filed criminal appeal before the <COURT>High Court of Punjab and Haryana</COURT>. The <COURT>High Court</COURT> vide impugned judgment dated <DATE>19.8.2011</DATE> modified the judgment of the trial court thereby convicted <APP>Jage Ram</APP> (A-1) under Section 325 <STAT>IPC</STAT> and sentenced him to undergo rigorous imprisonment for one year, convicted second accused Rajbir @ Raju under Section 307 <STAT>IPC</STAT> and imposed sentence of imprisonment for five years as well the fine of Rs.500/- was confirmed by the <COURT>High Court</COURT>. Sentence under Section 325 <STAT>IPC</STAT> (two counts) was modified as the sentence under Section 323 <STAT>IPC</STAT> and he was sentenced to undergo six months rigorous imprisonment. Both the sentences were ordered to run concurrently. <COURT>High Court</COURT> modified the sentence of Madan (A-3) Rakesh (A-4) under Section 323 <STAT>IPC</STAT> and sentenced them to undergo rigorous imprisonment for six months (two counts) respectively. In this appeal, the appellants assail the correctness of the impugned judgment. 6. Ms. <A.COUNSEL>Vibha Datta Makhija</A.COUNSEL>, learned Senior Counsel appearing for the appellants contended that the evidence of the witnesses suffers from material discrepancy and is self-contradictory. It was submitted that injured witness Sukhbir was not examined in the court and neither CT Scan nor x-ray nor operational notes of Sukhbir were produced before the court and in the absence of such material evidence, courts below erred in convicting the second accused under Section 307 <STAT>IPC</STAT>. Additionally, the learned counsel contended that the defence plea of private defence was not considered by the courts below in proper perspective. 7. Per contra, learned counsel appearing for the respondent-State contended that the evidence of all the witnesses satisfactorily establishes the overt act of the accused persons and <WIT>Jagdish</WIT> (PW-5) and <WIT>Mange Ram</WIT> (PW- 6) being the injured witnesses, the veracity of these witnesses cannot be doubted. It was submitted that the medical evidence sufficiently corroborated the oral evidence and the prosecution has established the intention of the 2nd accused in causing attempt to commit murder of Sukhbir and in appreciation of the evidence, courts below recorded concurrent findings convicting the second accused under Section 307 <STAT>IPC</STAT> and the same warrants no interference. 8. We have carefully considered the rival contentions and gone through the impugned judgment and perused the materials on record. 9. As it emerges from the evidence, complainant <WIT>Jagdish</WIT> (PW-5) and his two sons Sukhbir and <WIT>Mange Ram</WIT> were cutting pullas. The accused party went there and asked them not to cut the pullas. In the wordy altercation, second accused Rajbir @ Raju gave pharsi blows on the head of Sukhbir. PWs 5 & 6 have clearly spoken about the overt act of the accused that A-1 <APP>Jage Ram</APP> attacked and caused injury to PW-5 <WIT>Jagdish</WIT> with jaily blows and that second accused Rajbir @ Raju attacked on the head of Sukhbir with pharsi. They have also stated that Madan and Rakesh caused injuries to PW5-<WIT>Jagdish</WIT> with lathi on shoulder and left elbow respectively. PW 2- Dr. <WIT>Pardeep Kumar</WIT> in his evidence stated that he has examined PWs 5 and 6 and noted the injuries on the body of PWs 5 and 6 and issued wound certificates. Evidence of PWs 5 and 6 is amply corroborated by medical evidence. PWs 5 and 6 being injured witnesses, their evidence is entitled to great weight. Cogent and convincing grounds are required to discard the evidence of injured witnesses. In the light of the fact that PWs 5 and 6 were injured witnesses, courts below tested their evidence for its credibility and recorded concurrent findings that PWs 5 and 6 are trustworthy witnesses. We find no reason to take a different view. 10. Appellants have raised the contention that the prosecution failed to adduce evidence that A-2 Rajbir attempted to commit murder of Sukhbir. It was submitted that injured person Sukhbir was neither examined nor medical evidence like CT Scan, x-ray and operational notes and Sukhbir were produced to corroborate the oral evidence and while so courts below erred in convicting second accused Rajbir @ Raju under Section 307 <STAT>IPC</STAT>. 11. Dr. <WIT>Pardeep Kumar</WIT>-PW-2, who examined Sukhbir found during his medico-legal examination a lacerated wound in the middle of the top of the skull. Injured-Sukhkbir was found vomiting in the hospital and he was examined by a Neuro Surgeon Dr. Hilol Kanti Pal (PW-9) of Safdarjung Hospital, Delhi on <DATE>19.11.1994</DATE>, i.e. the day after the incident. PW-9 has stated that Sukhbir was unconscious since 2.00 P.M. on <DATE>18.11.1994</DATE> and was deeply comatose with irregularity of pupils and a laceration was diagnosed on the right front parietal region. Further, PW-9 has stated that during the CT scan, it was revealed that a large extra-dural haemotoma was present in the frontal region with mass effect and to avoid further deterioration of his condition, he was operated upon by frontal trephine craniopmy an haemotoma measuring about 125 ml was evacuated. PW-9 stated that had not the operation been conducted on Sukhbir and had not the extra- dural haemotoma removed by operation urgently, the head injury caused to Sukhbir would have caused his death. As noted by the <COURT>High Court</COURT>, it is thus brought on evidence that had not surgical assistance been given to Sukhbir, he would have definitely died. 12. For the purpose of conviction under Section 307 <STAT>IPC</STAT>, prosecution has to establish (i) the intention to commit murder and (ii) the act done by the accused. The burden is on the prosecution that accused had attempted to commit the murder of the prosecution witness. Whether the accused person intended to commit murder of another person would depend upon the facts and circumstances of each case. To justify a conviction under Section 307 <STAT>IPC</STAT>, it is not essential that fatal injury capable of causing death should have been caused. Although the nature of injury actually caused may be of assistance in coming to a finding as to the intention of the accused, such intention may also be adduced from other circumstances. The intention of the accused is to be gathered from the circumstances like the nature of the weapon used, words used by the accused at the time of the incident, motive of the accused, parts of the body where the injury was caused and the nature of injury and severity of the blows given etc. 13. In the case of <PREC>State of M.P. vs. Kashiram & Ors.</PREC>[1], the scope of intention for attracting conviction under Section 307 <STAT>IPC</STAT> was elaborated and it was held as under:- \"13. It is sufficient to justify a conviction under Section 307 if there is present an intent coupled with some overt act in execution thereof. It is not essential that bodily injury capable of causing death should have been inflicted. The section makes a distinction between the act of the accused and its result, if any. The court has to see whether the act, irrespective of its result, was done with the intention or knowledge and under circumstances mentioned in the section. Therefore, an accused charged under Section 307 <STAT>IPC</STAT> cannot be acquitted merely because the injuries inflicted on the victim were in the nature of a simple hurt. [pic] 14. This position was highlighted in <PREC>State of Maharashtra v. Balram Bama Patil, (1983) 2 SCC 28</PREC>, <PREC>Girija Shanker v. State of U.P.(2004) 3 SCC 793</PREC> and <PREC>R. Prakash v. State of Karnataka (2004) 9 SCC 27</PREC>. * * * 16. Whether there was intention to kill or knowledge that death will be caused is a question of fact and would depend on the facts of a given case. The circumstances that the injury inflicted by the accused was simple or minor will not by itself rule out application of Section 307 <STAT>IPC</STAT>. The determinative question is the intention or knowledge, as the case may be, and not the nature of the injury.\" See <PREC>State of M.P. v. Saleem (2005) 5 SCC 554</PREC> pp. 559-60, paras 11-14 and 16. 13. \"6. Undue sympathy to impose inadequate sentence would do more harm to the justice system to undermine the public confidence in the efficacy of law and society could not long endure under such serious threats. It is, therefore, the duty of every court to award proper sentence having regard to the nature of the offence and the manner in which it was executed or committed, etc. This position was illuminatingly stated by this Court in <PREC>Sevaka Perumal v. State of T.N.(1991) 3 SCC 471</PREC>.\" 14. Having regard to the weapon used for causing the head injuries to Sukhbir, nature of injures, situs of the injury and the severity of the blows, courts below recorded concurrent findings convicting the 2nd appellant under Section 307 <STAT>IPC</STAT>. In our considered view, the conviction of the second appellant Rajbir @ Raju under Section 307 <STAT>IPC</STAT> is unassailable. 15. Learned counsel for the appellants contended that the second appellant is in custody for more than three years and since the occurrence was in the year 1994, prayed for reduction of the sentence imposed on the second appellant to the period already undergone. Placing reliance upon the judgment of this Court in <PREC>Hari Singh vs. Sukhbir Singh & Ors</PREC>[2]., learned counsel for the appellants additionally submitted that in terms of Section 357 (3) <STAT>Cr.P.C.</STAT> that the compensation may be awarded to the victim and the sentence be modified to the period already undergone. 16. For the conviction under Section 307 <STAT>IPC</STAT>, courts below imposed upon the 2nd appellant rigorous imprisonment of five years, while imposing punishment, courts have an obligation to award appropriate punishment. Question of awarding sentence is a matter of discretion and the same has to be exercised by the courts taking into consideration all the relevant circumstances. What sentence would meet the ends of justice would depend upon the facts and circumstances of each case and the courts must keep in mind the gravity of the offence, motive for the crime, nature of the offence and all other attendant circumstances. Vide <PREC>State of M.P. vs. Bablu Natt</PREC>[3]; <PREC>Alister Anthony Pareira vs. State of Maharashtra</PREC>[4] and <PREC>Soman vs. State of Kerala</PREC>[5]. 17. In the light of the above, considering the case in hand, the occurrence was of the year 1994 when the complainant party was cutting pullas, the accused asked them not to cut the pullas which resulted in the wordy altercation. In the heat of passion, the accused have caused injuries to the complainant party. The second accused Rajbir @ Raju is in custody. He surrendered on <DATE>5.1.2012</DATE> and is stated to be in custody since then, for more than three years. Having regard to the facts and circumstances of the case, in our considered view, the period of sentence of five years may be reduced to three years apart from directing the second appellant Rajbir @ Raju to pay substantial compensation to injured- Sukhbir. 18. As noticed above, injured-Sukhbir sustained grievous head injuries and was deeply comatose and was in a state of shock and trauma. Learned counsel for the injured-witness submitted that for quite some time injured-Sukhbir was unconscious and thereafter suffering from mental trauma. Having regard to the nature of injuries sustained by Sukhbir and the period of treatment and other circumstances, we are of the view that, it would be appropriate to direct second appellant-accused Rajbir @ Raju to pay Rs.7,50,000/- as compensation to the injured-Sukhbir. When the matter came up for hearing on <DATE>14.10.2014</DATE>, learned counsel for the appellants informed the Court that he had offered Rs.5,00,000/- by way of demand draft towards compensation to the injured-Sukhbir in the presence of the Sarpanch of the village which he has refused to receive the same. The said amount of Rs.5,00,000/- is now kept in fixed deposit in the Registry of this Court. 19. For inflicting blows on PW-5 <WIT>Jagidsh</WIT> with jaily A-1 <APP>Jage Ram</APP> was convicted under Section 325 <STAT>IPC</STAT> and sentenced to undergo rigorous imprisonment for one year. A-3 and A-4 have also given lathis blows to PW- 5 and were convicted under Section 323 <STAT>IPC</STAT> and sentenced to undergo rigorous imprisonment for three months by the <COURT>High Court</COURT>. Having regard to the fact that the occurrence was of the year 1994, considering the other facts and circumstances of the case, the sentence of imprisonment imposed on <APP>Jage Ram</APP> (A-1), Madan (A-3) and Rakesh (A-4) is reduced to the period already undergone by them. 20. The conviction of A-1 under Section 325 <STAT>IPC</STAT>, A-3 and A-4 under Section 323 <STAT>IPC</STAT> is confirmed and the sentence is reduced to the period already undergone by each of them. The conviction of second accused Rajbir @ Raju under Section 307 <STAT>IPC</STAT> is confirmed and the sentence of imprisonment of five years is reduced to the period already undergone and additionally the second accused shall pay a compensation of Rs.7,50,000/- to the injured witness-Sukhbir. Compensation amount of Rs.5,00,000/- deposited in this Court by the 2nd appellant shall be paid to the injured witness-Sukhbir. The second accused Rajbir @ Raju shall deposit the balance compensation amount of Rs.2,50,000/- before the trial court within three months from the date of this judgment and on such deposit, the same shall also be paid to the injured witness-Sukhbir. On failure to deposit the balance compensation, the second appellant Rajbir @ Raju shall undergo default sentence of one year. 21. The appeal is allowed to the above said extent. Second appellant Rajbir @ Raju is ordered to be released forthwith if not required in any other case. Bail bonds of accused A1, A3 and A4 shall stand discharged. ...........................J. (<JUDGE>V. Gopala Gowda</JUDGE>) ...........................J. (<JUDGE>R. Banumathi</JUDGE>) New Delhi;<DATE>January 28, 2015</DATE> ITEM NO.1A-For JUDGMENT COURT NO.12 SECTION IIB S U P R E M E C O U R T O F I N D I A RECORD OF PROCEEDINGS Criminal Appeal No(s). 92/2015 arising from SLP(Crl.) No. 488/2012 JAGE RAM & ORS. Appellant(s) VERSUS <RESP>STATE OF HARYANA</RESP> & ANR. Respondent(s) Date : <DATE>28/01/2015</DATE> This appeal was called on for pronouncement of JUDGMENT today. For Appellant(s) Mr. <A.COUNSEL>Gagan Gupta</A.COUNSEL>,Adv. For Respondent(s) Mr. <R.COUNSEL>Ajay Bansal</R.COUNSEL>, AAG Mr. <R.COUNSEL>Kamal Mohan Gupta</R.COUNSEL>,Adv. Mr. <R.COUNSEL>Gaurav Yadav</R.COUNSEL>, Adv. Mr. <R.COUNSEL>Akshat Goel</R.COUNSEL>,Adv. Hon\\'ble Mrs. Justice <JUDGE>R. Banumathi</JUDGE> pronounced the judgment of the Bench comprising of Hon\\'ble Mr. Justice <JUDGE>V. Gopala Gowda</JUDGE> and Hon\\'ble Mrs. Justice <JUDGE>R. Banumathi</JUDGE>. The appeal is allowed in terms of the signed reportable judgment. Second appellant Rajbir @ Raju is ordered to be released forthwith if not required in any other case. Bail bonds of accused A1, A3 and A4 shall stand discharged. (VINOD KR. JHA) (MALA KUMARI SHARMA) COURT MASTER COURT MASTER (Signed Reportable judgment is placed on the file) ----------------------- [1] [2] AIR 2009 SC 1642 = (2009) 4 SCC 26 [3] [4] <CASENO>(1988) 4 SCC 551</CASENO> [5] [6] <CASENO>(2009) 2 SCC 272</CASENO> [7] [8] (2012) 2 SCC 648 [9] [10] (2013) 11 SCC 382', 'input_ids': [83, 104, 117, 105, 114, 117, 112, 35, 81, 72, 85, 61, 35, 85, 72, 83, 82, 85, 87, 68, 69, 79, 72, 35, 76, 81, 35, 87, 75, 72, 35, 86, 88, 83, 85, 72, 80, 72, 35, 70, 82, 88, 85, 87, 35, 82, 73, 35, 76, 81, 71, 76, 68, 35, 70, 85, 76, 80, 76, 81, 68, 79, 35, 68, 83, 83, 72, 79, 79, 68, 87, 72, 35, 77, 88, 85, 76, 86, 71, 76, 70, 87, 76, 82, 81, 35, 70, 85, 76, 80, 76, 81, 68, 79, 35, 68, 83, 83, 72, 68, 79, 35, 81, 82, 49, 35, 60, 53, 50, 53, 51, 52, 56, 35, 77, 68, 74, 72, 35, 85, 68, 80, 35, 41, 35, 82, 85, 86, 49, 35, 49, 49, 68, 115, 115, 104, 111, 111, 100, 113, 119, 118, 35, 89, 104, 117, 118, 120, 118, 35, 63, 85, 72, 86, 83, 65, 86, 87, 68, 87, 72, 35, 82, 73, 35, 75, 68, 85, 92, 68, 81, 68, 63, 50, 85, 72, 86, 83, 65, 35, 49, 49, 85, 104, 118, 115, 114, 113, 103, 104, 113, 119, 35, 77, 35, 88, 35, 71, 35, 74, 35, 80, 35, 72, 35, 81, 35, 87, 35, 85, 49, 35, 69, 68, 81, 88, 80, 68, 87, 75, 76, 47, 35, 77, 49, 35, 87, 107, 108, 118, 35, 100, 115, 115, 104, 100, 111, 35, 108, 118, 35, 115, 117, 104, 105, 104, 117, 117, 104, 103, 35, 100, 106, 100, 108, 113, 118, 119, 35, 119, 107, 104, 35, 109, 120, 103, 106, 112, 104, 113, 119, 35, 103, 100, 119, 104, 103, 35, 63, 71, 68, 87, 72, 65, 52, 60, 49, 59, 49, 53, 51, 52, 52, 63, 50, 71, 68, 87, 72, 65, 35, 115, 100, 118, 118, 104, 103, 35, 101, 124, 35, 119, 107, 104, 35, 63, 70, 82, 88, 85, 87, 65, 75, 108, 106, 107, 35, 70, 114, 120, 117, 119, 35, 114, 105, 35, 83, 120, 113, 109, 100, 101, 35, 100, 113, 103, 35, 75, 100, 117, 124, 100, 113, 100, 63, 50, 70, 82, 88, 85, 87, 65, 35, 108, 113, 35, 70, 117, 108, 112, 108, 113, 100, 111, 35, 68, 115, 115, 104, 100, 111, 35, 81, 114, 49, 52, 59, 52, 35, 86, 69, 35, 114, 105, 35, 53, 51, 51, 51, 47, 35, 122, 107, 104, 117, 104, 101, 124, 35, 119, 107, 104, 35, 63, 70, 82, 88, 85, 87, 65, 75, 108, 106, 107, 35, 70, 114, 120, 117, 119, 63, 50, 70, 82, 88, 85, 87, 65, 35, 115, 100, 117, 119, 111, 124, 35, 100, 111, 111, 114, 122, 104, 103, 35, 119, 107, 104, 35, 100, 115, 115, 104, 100, 111, 35, 105, 108, 111, 104, 103, 35, 101, 124, 35, 119, 107, 104, 35, 100, 115, 115, 104, 111, 111, 100, 113, 119, 118, 35, 119, 107, 104, 117, 104, 101, 124, 35, 102, 114, 113, 105, 108, 117, 112, 108, 113, 106, 35, 119, 107, 104, 1], 'attention_mask': [1, 1, 1, 1, 1, 1, 1, 1, 1, 1, 1, 1, 1, 1, 1, 1, 1, 1, 1, 1, 1, 1, 1, 1, 1, 1, 1, 1, 1, 1, 1, 1, 1, 1, 1, 1, 1, 1, 1, 1, 1, 1, 1, 1, 1, 1, 1, 1, 1, 1, 1, 1, 1, 1, 1, 1, 1, 1, 1, 1, 1, 1, 1, 1, 1, 1, 1, 1, 1, 1, 1, 1, 1, 1, 1, 1, 1, 1, 1, 1, 1, 1, 1, 1, 1, 1, 1, 1, 1, 1, 1, 1, 1, 1, 1, 1, 1, 1, 1, 1, 1, 1, 1, 1, 1, 1, 1, 1, 1, 1, 1, 1, 1, 1, 1, 1, 1, 1, 1, 1, 1, 1, 1, 1, 1, 1, 1, 1, 1, 1, 1, 1, 1, 1, 1, 1, 1, 1, 1, 1, 1, 1, 1, 1, 1, 1, 1, 1, 1, 1, 1, 1, 1, 1, 1, 1, 1, 1, 1, 1, 1, 1, 1, 1, 1, 1, 1, 1, 1, 1, 1, 1, 1, 1, 1, 1, 1, 1, 1, 1, 1, 1, 1, 1, 1, 1, 1, 1, 1, 1, 1, 1, 1, 1, 1, 1, 1, 1, 1, 1, 1, 1, 1, 1, 1, 1, 1, 1, 1, 1, 1, 1, 1, 1, 1, 1, 1, 1, 1, 1, 1, 1, 1, 1, 1, 1, 1, 1, 1, 1, 1, 1, 1, 1, 1, 1, 1, 1, 1, 1, 1, 1, 1, 1, 1, 1, 1, 1, 1, 1, 1, 1, 1, 1, 1, 1, 1, 1, 1, 1, 1, 1, 1, 1, 1, 1, 1, 1, 1, 1, 1, 1, 1, 1, 1, 1, 1, 1, 1, 1, 1, 1, 1, 1, 1, 1, 1, 1, 1, 1, 1, 1, 1, 1, 1, 1, 1, 1, 1, 1, 1, 1, 1, 1, 1, 1, 1, 1, 1, 1, 1, 1, 1, 1, 1, 1, 1, 1, 1, 1, 1, 1, 1, 1, 1, 1, 1, 1, 1, 1, 1, 1, 1, 1, 1, 1, 1, 1, 1, 1, 1, 1, 1, 1, 1, 1, 1, 1, 1, 1, 1, 1, 1, 1, 1, 1, 1, 1, 1, 1, 1, 1, 1, 1, 1, 1, 1, 1, 1, 1, 1, 1, 1, 1, 1, 1, 1, 1, 1, 1, 1, 1, 1, 1, 1, 1, 1, 1, 1, 1, 1, 1, 1, 1, 1, 1, 1, 1, 1, 1, 1, 1, 1, 1, 1, 1, 1, 1, 1, 1, 1, 1, 1, 1, 1, 1, 1, 1, 1, 1, 1, 1, 1, 1, 1, 1, 1, 1, 1, 1, 1, 1, 1, 1, 1, 1, 1, 1, 1, 1, 1, 1, 1, 1, 1, 1, 1, 1, 1, 1, 1, 1, 1, 1, 1, 1, 1, 1, 1, 1, 1, 1, 1, 1, 1, 1, 1, 1, 1, 1, 1, 1, 1, 1, 1, 1, 1, 1, 1, 1, 1, 1, 1, 1, 1, 1, 1, 1, 1, 1, 1, 1, 1, 1, 1, 1, 1, 1, 1, 1, 1, 1, 1, 1, 1, 1, 1, 1, 1, 1, 1, 1], 'labels': [85, 72, 83, 82, 85, 87, 68, 69, 79, 72, 35, 76, 81, 35, 87, 75, 72, 35, 86, 88, 83, 85, 72, 80, 72, 35, 70, 82, 88, 85, 87, 35, 82, 73, 35, 76, 81, 71, 76, 68, 35, 70, 85, 76, 80, 76, 81, 68, 79, 35, 68, 83, 83, 72, 79, 79, 68, 87, 72, 35, 77, 88, 85, 76, 86, 71, 76, 70, 87, 76, 82, 81, 35, 70, 85, 76, 80, 76, 81, 68, 79, 35, 68, 83, 83, 72, 68, 79, 35, 81, 82, 49, 35, 60, 53, 50, 53, 51, 52, 56, 35, 77, 68, 74, 72, 35, 85, 68, 80, 35, 41, 35, 82, 85, 86, 49, 35, 49, 49, 68, 115, 115, 104, 111, 111, 100, 113, 119, 118, 35, 89, 104, 117, 118, 120, 118, 35, 63, 85, 72, 86, 83, 65, 86, 87, 68, 87, 72, 35, 82, 73, 35, 75, 68, 85, 92, 68, 81, 68, 63, 50, 85, 72, 86, 83, 65, 35, 49, 49, 85, 104, 118, 115, 114, 113, 103, 104, 113, 119, 35, 77, 35, 88, 35, 71, 35, 74, 35, 80, 35, 72, 35, 81, 35, 87, 35, 85, 49, 35, 69, 68, 81, 88, 80, 68, 87, 75, 76, 47, 35, 77, 49, 35, 87, 107, 108, 118, 35, 100, 115, 115, 104, 100, 111, 35, 108, 118, 35, 115, 117, 104, 105, 104, 117, 117, 104, 103, 35, 100, 106, 100, 108, 113, 118, 119, 35, 119, 107, 104, 35, 109, 120, 103, 106, 112, 104, 113, 119, 35, 103, 100, 119, 104, 103, 35, 63, 71, 68, 87, 72, 65, 52, 60, 49, 59, 49, 53, 51, 52, 52, 63, 50, 71, 68, 87, 72, 65, 35, 115, 100, 118, 118, 104, 103, 35, 101, 124, 35, 119, 107, 104, 35, 63, 70, 82, 88, 85, 87, 65, 75, 108, 106, 107, 35, 70, 114, 120, 117, 119, 35, 114, 105, 35, 83, 120, 113, 109, 100, 101, 35, 100, 113, 103, 35, 75, 100, 117, 124, 100, 113, 100, 63, 50, 70, 82, 88, 85, 87, 65, 35, 108, 113, 35, 70, 117, 108, 112, 108, 113, 100, 111, 35, 68, 115, 115, 104, 100, 111, 35, 81, 114, 49, 52, 59, 52, 35, 86, 69, 35, 114, 105, 35, 53, 51, 51, 51, 47, 35, 122, 107, 104, 117, 104, 101, 124, 35, 119, 107, 104, 35, 63, 70, 82, 88, 85, 87, 65, 75, 108, 106, 107, 35, 70, 114, 120, 117, 119, 63, 50, 70, 82, 88, 85, 87, 65, 35, 115, 100, 117, 119, 111, 124, 35, 100, 111, 111, 114, 122, 104, 103, 35, 119, 107, 104, 35, 100, 115, 115, 104, 100, 111, 35, 105, 108, 111, 104, 103, 35, 101, 124, 35, 119, 107, 104, 35, 100, 115, 115, 104, 111, 111, 100, 113, 119, 118, 35, 119, 107, 104, 117, 104, 101, 124, 35, 102, 114, 113, 105, 108, 117, 112, 108, 113, 106, 35, 119, 107, 104, 35, 102, 114, 113, 121, 108, 102, 119, 108, 114, 113, 35, 114, 1]}\n",
          "output_type": "stream"
        }
      ],
      "execution_count": null
    },
    {
      "cell_type": "code",
      "source": [
        "from kaggle_secrets import UserSecretsClient\n",
        "user_secrets = UserSecretsClient()\n",
        "secret_value_1 = user_secrets.get_secret(\"WANDB_API_KEY\")"
      ],
      "metadata": {
        "trusted": true,
        "execution": {
          "iopub.status.busy": "2025-02-19T14:00:31.666154Z",
          "iopub.execute_input": "2025-02-19T14:00:31.666358Z",
          "iopub.status.idle": "2025-02-19T14:00:31.8244Z",
          "shell.execute_reply.started": "2025-02-19T14:00:31.666341Z",
          "shell.execute_reply": "2025-02-19T14:00:31.823761Z"
        },
        "id": "Cti387Us8EUv"
      },
      "outputs": [],
      "execution_count": null
    },
    {
      "cell_type": "code",
      "source": [
        "import wandb\n",
        "from kaggle_secrets import UserSecretsClient\n",
        "user_secrets = UserSecretsClient()\n",
        "key = user_secrets.get_secret(\"WANDB_API_KEY\")\n",
        "\n",
        "!wandb login $key"
      ],
      "metadata": {
        "trusted": true,
        "execution": {
          "iopub.status.busy": "2025-02-19T12:07:42.231171Z",
          "iopub.execute_input": "2025-02-19T12:07:42.231559Z",
          "iopub.status.idle": "2025-02-19T12:07:43.623461Z",
          "shell.execute_reply.started": "2025-02-19T12:07:42.231529Z",
          "shell.execute_reply": "2025-02-19T12:07:43.622572Z"
        },
        "id": "s0rscATt8EUw",
        "outputId": "903f7e88-2c00-49d9-d420-440999445b56"
      },
      "outputs": [
        {
          "name": "stdout",
          "text": "\u001b[34m\u001b[1mwandb\u001b[0m: \u001b[33mWARNING\u001b[0m If you're specifying your api key in code, ensure this code is not shared publicly.\n\u001b[34m\u001b[1mwandb\u001b[0m: \u001b[33mWARNING\u001b[0m Consider setting the WANDB_API_KEY environment variable, or running `wandb login` from the command line.\n\u001b[34m\u001b[1mwandb\u001b[0m: Appending key for api.wandb.ai to your netrc file: /root/.netrc\n",
          "output_type": "stream"
        }
      ],
      "execution_count": null
    },
    {
      "cell_type": "code",
      "source": [
        "from transformers import T5ForConditionalGeneration, Seq2SeqTrainer, Seq2SeqTrainingArguments\n",
        "import os\n",
        "\n",
        "os.environ['PYTORCH_CUDA_ALLOC_CONF'] = 'expandable_segments:True'\n",
        "# Load the model\n",
        "model = T5ForConditionalGeneration.from_pretrained(\"google/byt5-small\",\n",
        "                                                   use_cache=False)\n",
        "\n",
        "# Define training arguments\n",
        "training_args = Seq2SeqTrainingArguments(\n",
        "    output_dir=\"./byt5-ner\",\n",
        "    per_device_train_batch_size=4,\n",
        "    per_device_eval_batch_size=4,\n",
        "    num_train_epochs=3,\n",
        "    evaluation_strategy=\"epoch\",\n",
        "    gradient_accumulation_steps=2,# Added this after OutOfMemory error\n",
        "    save_strategy=\"epoch\",\n",
        "    logging_dir=\"./logs\",\n",
        "    learning_rate=5e-5,\n",
        "    fp16=True,  # Use mixed precision if you have a GPU\n",
        ")\n",
        "\n",
        "# Initialize the trainer\n",
        "trainer = Seq2SeqTrainer(\n",
        "    model=model,\n",
        "    args=training_args,\n",
        "    train_dataset=tokenized_data['fold_1'],\n",
        "    eval_dataset=tokenized_data['fold_2'],\n",
        ")\n",
        "\n",
        "# Train the model\n",
        "trainer.train()"
      ],
      "metadata": {
        "trusted": true,
        "execution": {
          "iopub.status.busy": "2025-02-19T12:51:18.819136Z",
          "iopub.execute_input": "2025-02-19T12:51:18.819615Z",
          "iopub.status.idle": "2025-02-19T12:52:00.756222Z",
          "shell.execute_reply.started": "2025-02-19T12:51:18.819578Z",
          "shell.execute_reply": "2025-02-19T12:52:00.755195Z"
        },
        "id": "TygwgwAE8EUy",
        "outputId": "182f43e2-e7db-42d6-e0c5-8afca8f26fba"
      },
      "outputs": [
        {
          "name": "stderr",
          "text": "/usr/local/lib/python3.10/dist-packages/transformers/training_args.py:1575: FutureWarning: `evaluation_strategy` is deprecated and will be removed in version 4.46 of 🤗 Transformers. Use `eval_strategy` instead\n  warnings.warn(\n/usr/local/lib/python3.10/dist-packages/torch/nn/parallel/_functions.py:71: UserWarning: Was asked to gather along dimension 0, but all input tensors were scalars; will instead unsqueeze and return a vector.\n  warnings.warn(\n",
          "output_type": "stream"
        },
        {
          "output_type": "display_data",
          "data": {
            "text/plain": "<IPython.core.display.HTML object>",
            "text/html": "\n    <div>\n      \n      <progress value='6' max='6' style='width:300px; height:20px; vertical-align: middle;'></progress>\n      [6/6 00:36, Epoch 2/3]\n    </div>\n    <table border=\"1\" class=\"dataframe\">\n  <thead>\n <tr style=\"text-align: left;\">\n      <th>Epoch</th>\n      <th>Training Loss</th>\n      <th>Validation Loss</th>\n    </tr>\n  </thead>\n  <tbody>\n    <tr>\n      <td>1</td>\n      <td>No log</td>\n      <td>4.873067</td>\n    </tr>\n    <tr>\n      <td>2</td>\n      <td>No log</td>\n      <td>2.801598</td>\n    </tr>\n  </tbody>\n</table><p>"
          },
          "metadata": {}
        },
        {
          "name": "stderr",
          "text": "/usr/local/lib/python3.10/dist-packages/torch/nn/parallel/_functions.py:71: UserWarning: Was asked to gather along dimension 0, but all input tensors were scalars; will instead unsqueeze and return a vector.\n  warnings.warn(\n/usr/local/lib/python3.10/dist-packages/torch/nn/parallel/_functions.py:71: UserWarning: Was asked to gather along dimension 0, but all input tensors were scalars; will instead unsqueeze and return a vector.\n  warnings.warn(\n",
          "output_type": "stream"
        },
        {
          "execution_count": 24,
          "output_type": "execute_result",
          "data": {
            "text/plain": "TrainOutput(global_step=6, training_loss=8.49232546488444, metrics={'train_runtime': 39.9167, 'train_samples_per_second': 2.63, 'train_steps_per_second': 0.15, 'total_flos': 64312470405120.0, 'train_loss': 8.49232546488444, 'epoch': 2.0})"
          },
          "metadata": {}
        }
      ],
      "execution_count": null
    },
    {
      "cell_type": "code",
      "source": [
        "%pip install evaluate"
      ],
      "metadata": {
        "trusted": true,
        "execution": {
          "iopub.status.busy": "2025-02-19T13:03:23.940138Z",
          "iopub.execute_input": "2025-02-19T13:03:23.94049Z",
          "iopub.status.idle": "2025-02-19T13:03:28.081584Z",
          "shell.execute_reply.started": "2025-02-19T13:03:23.940458Z",
          "shell.execute_reply": "2025-02-19T13:03:28.080604Z"
        },
        "id": "-50np9Ne8EUz",
        "outputId": "b478c738-dd9e-4581-f7f7-6189e427e1e6"
      },
      "outputs": [
        {
          "name": "stdout",
          "text": "Collecting evaluate\n  Downloading evaluate-0.4.3-py3-none-any.whl.metadata (9.2 kB)\nRequirement already satisfied: datasets>=2.0.0 in /usr/local/lib/python3.10/dist-packages (from evaluate) (3.2.0)\nRequirement already satisfied: numpy>=1.17 in /usr/local/lib/python3.10/dist-packages (from evaluate) (1.26.4)\nRequirement already satisfied: dill in /usr/local/lib/python3.10/dist-packages (from evaluate) (0.3.8)\nRequirement already satisfied: pandas in /usr/local/lib/python3.10/dist-packages (from evaluate) (2.2.3)\nRequirement already satisfied: requests>=2.19.0 in /usr/local/lib/python3.10/dist-packages (from evaluate) (2.32.3)\nRequirement already satisfied: tqdm>=4.62.1 in /usr/local/lib/python3.10/dist-packages (from evaluate) (4.67.1)\nRequirement already satisfied: xxhash in /usr/local/lib/python3.10/dist-packages (from evaluate) (3.5.0)\nRequirement already satisfied: multiprocess in /usr/local/lib/python3.10/dist-packages (from evaluate) (0.70.16)\nRequirement already satisfied: fsspec>=2021.05.0 in /usr/local/lib/python3.10/dist-packages (from fsspec[http]>=2021.05.0->evaluate) (2024.9.0)\nRequirement already satisfied: huggingface-hub>=0.7.0 in /usr/local/lib/python3.10/dist-packages (from evaluate) (0.28.1)\nRequirement already satisfied: packaging in /usr/local/lib/python3.10/dist-packages (from evaluate) (24.2)\nRequirement already satisfied: filelock in /usr/local/lib/python3.10/dist-packages (from datasets>=2.0.0->evaluate) (3.17.0)\nRequirement already satisfied: pyarrow>=15.0.0 in /usr/local/lib/python3.10/dist-packages (from datasets>=2.0.0->evaluate) (19.0.0)\nRequirement already satisfied: aiohttp in /usr/local/lib/python3.10/dist-packages (from datasets>=2.0.0->evaluate) (3.11.11)\nRequirement already satisfied: pyyaml>=5.1 in /usr/local/lib/python3.10/dist-packages (from datasets>=2.0.0->evaluate) (6.0.2)\nRequirement already satisfied: typing-extensions>=3.7.4.3 in /usr/local/lib/python3.10/dist-packages (from huggingface-hub>=0.7.0->evaluate) (4.12.2)\nRequirement already satisfied: mkl_fft in /usr/local/lib/python3.10/dist-packages (from numpy>=1.17->evaluate) (1.3.8)\nRequirement already satisfied: mkl_random in /usr/local/lib/python3.10/dist-packages (from numpy>=1.17->evaluate) (1.2.4)\nRequirement already satisfied: mkl_umath in /usr/local/lib/python3.10/dist-packages (from numpy>=1.17->evaluate) (0.1.1)\nRequirement already satisfied: mkl in /usr/local/lib/python3.10/dist-packages (from numpy>=1.17->evaluate) (2025.0.1)\nRequirement already satisfied: tbb4py in /usr/local/lib/python3.10/dist-packages (from numpy>=1.17->evaluate) (2022.0.0)\nRequirement already satisfied: mkl-service in /usr/local/lib/python3.10/dist-packages (from numpy>=1.17->evaluate) (2.4.1)\nRequirement already satisfied: charset-normalizer<4,>=2 in /usr/local/lib/python3.10/dist-packages (from requests>=2.19.0->evaluate) (3.4.1)\nRequirement already satisfied: idna<4,>=2.5 in /usr/local/lib/python3.10/dist-packages (from requests>=2.19.0->evaluate) (3.10)\nRequirement already satisfied: urllib3<3,>=1.21.1 in /usr/local/lib/python3.10/dist-packages (from requests>=2.19.0->evaluate) (2.3.0)\nRequirement already satisfied: certifi>=2017.4.17 in /usr/local/lib/python3.10/dist-packages (from requests>=2.19.0->evaluate) (2025.1.31)\nRequirement already satisfied: python-dateutil>=2.8.2 in /usr/local/lib/python3.10/dist-packages (from pandas->evaluate) (2.9.0.post0)\nRequirement already satisfied: pytz>=2020.1 in /usr/local/lib/python3.10/dist-packages (from pandas->evaluate) (2025.1)\nRequirement already satisfied: tzdata>=2022.7 in /usr/local/lib/python3.10/dist-packages (from pandas->evaluate) (2025.1)\nRequirement already satisfied: aiohappyeyeballs>=2.3.0 in /usr/local/lib/python3.10/dist-packages (from aiohttp->datasets>=2.0.0->evaluate) (2.4.4)\nRequirement already satisfied: aiosignal>=1.1.2 in /usr/local/lib/python3.10/dist-packages (from aiohttp->datasets>=2.0.0->evaluate) (1.3.2)\nRequirement already satisfied: async-timeout<6.0,>=4.0 in /usr/local/lib/python3.10/dist-packages (from aiohttp->datasets>=2.0.0->evaluate) (5.0.1)\nRequirement already satisfied: attrs>=17.3.0 in /usr/local/lib/python3.10/dist-packages (from aiohttp->datasets>=2.0.0->evaluate) (25.1.0)\nRequirement already satisfied: frozenlist>=1.1.1 in /usr/local/lib/python3.10/dist-packages (from aiohttp->datasets>=2.0.0->evaluate) (1.5.0)\nRequirement already satisfied: multidict<7.0,>=4.5 in /usr/local/lib/python3.10/dist-packages (from aiohttp->datasets>=2.0.0->evaluate) (6.1.0)\nRequirement already satisfied: propcache>=0.2.0 in /usr/local/lib/python3.10/dist-packages (from aiohttp->datasets>=2.0.0->evaluate) (0.2.1)\nRequirement already satisfied: yarl<2.0,>=1.17.0 in /usr/local/lib/python3.10/dist-packages (from aiohttp->datasets>=2.0.0->evaluate) (1.18.3)\nRequirement already satisfied: six>=1.5 in /usr/local/lib/python3.10/dist-packages (from python-dateutil>=2.8.2->pandas->evaluate) (1.17.0)\nRequirement already satisfied: intel-openmp>=2024 in /usr/local/lib/python3.10/dist-packages (from mkl->numpy>=1.17->evaluate) (2024.2.0)\nRequirement already satisfied: tbb==2022.* in /usr/local/lib/python3.10/dist-packages (from mkl->numpy>=1.17->evaluate) (2022.0.0)\nRequirement already satisfied: tcmlib==1.* in /usr/local/lib/python3.10/dist-packages (from tbb==2022.*->mkl->numpy>=1.17->evaluate) (1.2.0)\nRequirement already satisfied: intel-cmplr-lib-rt in /usr/local/lib/python3.10/dist-packages (from mkl_umath->numpy>=1.17->evaluate) (2024.2.0)\nRequirement already satisfied: intel-cmplr-lib-ur==2024.2.0 in /usr/local/lib/python3.10/dist-packages (from intel-openmp>=2024->mkl->numpy>=1.17->evaluate) (2024.2.0)\nDownloading evaluate-0.4.3-py3-none-any.whl (84 kB)\n\u001b[2K   \u001b[90m━━━━━━━━━━━━━━━━━━━━━━━━━━━━━━━━━━━━━━━━\u001b[0m \u001b[32m84.0/84.0 kB\u001b[0m \u001b[31m2.6 MB/s\u001b[0m eta \u001b[36m0:00:00\u001b[0m\n\u001b[?25hInstalling collected packages: evaluate\nSuccessfully installed evaluate-0.4.3\nNote: you may need to restart the kernel to use updated packages.\n",
          "output_type": "stream"
        }
      ],
      "execution_count": null
    },
    {
      "cell_type": "code",
      "source": [
        "from transformers import T5ForConditionalGeneration, Seq2SeqTrainer, Seq2SeqTrainingArguments\n",
        "import evaluate\n",
        "import numpy as np\n",
        "\n",
        "import os"
      ],
      "metadata": {
        "trusted": true,
        "execution": {
          "iopub.status.busy": "2025-02-19T13:03:58.531732Z",
          "iopub.execute_input": "2025-02-19T13:03:58.532072Z",
          "iopub.status.idle": "2025-02-19T13:03:58.537294Z",
          "shell.execute_reply.started": "2025-02-19T13:03:58.532045Z",
          "shell.execute_reply": "2025-02-19T13:03:58.536311Z"
        },
        "id": "uVi6R5NC8EU0"
      },
      "outputs": [],
      "execution_count": null
    },
    {
      "cell_type": "code",
      "source": [
        "# Memory optimization\n",
        "os.environ['PYTORCH_CUDA_ALLOC_CONF'] = 'expandable_segments:True'\n",
        "\n",
        "# Load the model with optimizations\n",
        "model = T5ForConditionalGeneration.from_pretrained(\n",
        "    \"google/byt5-small\",\n",
        "    use_cache=False\n",
        ")\n",
        "\n",
        "# Custom compute_metrics function for NER\n",
        "def compute_metrics(eval_preds):\n",
        "    predictions, labels = eval_preds\n",
        "\n",
        "    # Decode predictions first\n",
        "    decoded_preds = tokenizer.batch_decode(predictions, skip_special_tokens=True)\n",
        "    decoded_labels = tokenizer.batch_decode(labels, skip_special_tokens=True)\n",
        "\n",
        "    # Compare decoded sequences\n",
        "    exact_matches = sum(pred == label for pred, label in zip(decoded_preds, decoded_labels))\n",
        "    accuracy = exact_matches / len(decoded_preds)\n",
        "\n",
        "    return {\n",
        "        \"accuracy\": accuracy\n",
        "    }\n",
        "# Define training arguments with detailed logging\n",
        "training_args = Seq2SeqTrainingArguments(\n",
        "    output_dir=\"./byt5-ner\",\n",
        "    per_device_train_batch_size=4,\n",
        "    per_device_eval_batch_size=4,\n",
        "    gradient_accumulation_steps=2,\n",
        "    num_train_epochs=3,\n",
        "    eval_strategy=\"epoch\",        # Changed from evaluation_strategy\n",
        "    eval_steps=100,              # Evaluate every 100 steps\n",
        "    save_strategy=\"epoch\",\n",
        "    logging_dir=\"./logs\",\n",
        "    logging_strategy=\"steps\",\n",
        "    logging_steps=50,            # Log every 50 steps\n",
        "    learning_rate=5e-5,\n",
        "    fp16=True,\n",
        "    load_best_model_at_end=True,\n",
        "    metric_for_best_model=\"f1\",  # Use F1 score to determine best model\n",
        "    greater_is_better=True,\n",
        "    report_to=[\"wandb\"],         # Log to Weights & Biases\n",
        ")\n",
        "\n",
        "# Initialize trainer with compute_metrics\n",
        "trainer = Seq2SeqTrainer(\n",
        "    model=model,\n",
        "    args=training_args,\n",
        "    train_dataset=tokenized_data['fold_1'],\n",
        "    eval_dataset=tokenized_data['fold_2'],\n",
        "    compute_metrics=compute_metrics,\n",
        ")\n",
        "\n",
        "# Train with proper error handling\n",
        "try:\n",
        "    train_result = trainer.train()\n",
        "\n",
        "    # Print detailed training metrics\n",
        "    print(\"\\nTraining metrics:\")\n",
        "    print(f\"Total training loss: {train_result.training_loss:.4f}\")\n",
        "    print(f\"Training runtime: {train_result.metrics['train_runtime']:.2f} seconds\")\n",
        "    print(f\"Samples per second: {train_result.metrics['train_samples_per_second']:.2f}\")\n",
        "\n",
        "    # Evaluate on fold 3\n",
        "    print(\"\\nEvaluating on hold-out set (fold 3):\")\n",
        "    eval_results = trainer.evaluate(tokenized_data['fold_3'])\n",
        "\n",
        "    # Print entity-specific metrics\n",
        "    for entity in [\"APP\", \"RESP\", \"A.COUNSEL\", \"R.COUNSEL\", \"JUDGE\", \"WIT\",\n",
        "                   \"AUTH\", \"COURT\", \"STAT\", \"PREC\", \"DATE\", \"CASENO\"]:\n",
        "        print(f\"\\n{entity} metrics:\")\n",
        "        print(f\"Precision: {eval_results.get(f'{entity}_precision', 'N/A')}\")\n",
        "        print(f\"Recall: {eval_results.get(f'{entity}_recall', 'N/A')}\")\n",
        "        print(f\"F1: {eval_results.get(f'{entity}_f1', 'N/A')}\")\n",
        "\n",
        "except Exception as e:\n",
        "    print(f\"An error occurred during training: {str(e)}\")"
      ],
      "metadata": {
        "trusted": true,
        "execution": {
          "iopub.status.busy": "2025-02-19T13:05:15.10851Z",
          "iopub.execute_input": "2025-02-19T13:05:15.108953Z",
          "iopub.status.idle": "2025-02-19T13:05:28.743964Z",
          "shell.execute_reply.started": "2025-02-19T13:05:15.108927Z",
          "shell.execute_reply": "2025-02-19T13:05:28.742897Z"
        },
        "id": "Ci_03d4U8EU0",
        "outputId": "6689fd75-3512-4500-bb36-75d1426cf349"
      },
      "outputs": [
        {
          "name": "stderr",
          "text": "/usr/local/lib/python3.10/dist-packages/torch/nn/parallel/_functions.py:71: UserWarning: Was asked to gather along dimension 0, but all input tensors were scalars; will instead unsqueeze and return a vector.\n  warnings.warn(\n",
          "output_type": "stream"
        },
        {
          "output_type": "display_data",
          "data": {
            "text/plain": "<IPython.core.display.HTML object>",
            "text/html": "\n    <div>\n      \n      <progress value='4' max='6' style='width:300px; height:20px; vertical-align: middle;'></progress>\n      [4/6 00:04 < 00:04, 0.43 it/s, Epoch 1/3]\n    </div>\n    <table border=\"1\" class=\"dataframe\">\n  <thead>\n <tr style=\"text-align: left;\">\n      <th>Epoch</th>\n      <th>Training Loss</th>\n      <th>Validation Loss</th>\n    </tr>\n  </thead>\n  <tbody>\n  </tbody>\n</table><p>\n    <div>\n      \n      <progress value='5' max='5' style='width:300px; height:20px; vertical-align: middle;'></progress>\n      [5/5 00:02]\n    </div>\n    "
          },
          "metadata": {}
        },
        {
          "name": "stdout",
          "text": "An error occurred during training: int() argument must be a string, a bytes-like object or a real number, not 'list'\n",
          "output_type": "stream"
        }
      ],
      "execution_count": null
    }
  ]
}